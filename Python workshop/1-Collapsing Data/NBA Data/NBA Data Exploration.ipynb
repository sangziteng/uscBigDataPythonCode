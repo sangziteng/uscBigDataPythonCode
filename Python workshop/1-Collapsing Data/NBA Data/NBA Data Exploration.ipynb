{
 "cells": [
  {
   "cell_type": "markdown",
   "metadata": {},
   "source": [
    "# INTRODUCTION TO PYTHON"
   ]
  },
  {
   "cell_type": "markdown",
   "metadata": {},
   "source": [
    "For our python workshops we will be using Python 3.7 and we will be doing the coding in Jupyter Notebooks.  \n",
    "\n",
    "\n",
    "These notebooks allow you to write code interactively, however you can write the same code in command line or an IDE and it would work the same. Also, these notebooks allow you to write code in your browser which is a more comfortable environment.\n",
    "\n",
    "\n",
    "Within jupyter notebooks you can also add text, explaining what your code is doing (as I have done here). To do that, you have to define the type of cell that you would like the interpreter (ie. computer) to know that you are using. \n",
    "\n",
    "\n",
    "If you want text, than you have to declare this cell as \"Markdown\", by selecting CELL > CELL TYPE > MARKDOWN. If you would like to write code, you can declare the cell as being for coding by selecting CELL > CELL TYPE > CODE from the menu at the top of the browser. \n",
    "\n",
    "\n",
    "You can tell that you are working in a \"CODE\" environment because at the left of the workspace there is a block of text that looks something like: \"ln [1]:\" This indicates the line number for lines of code. "
   ]
  },
  {
   "cell_type": "markdown",
   "metadata": {},
   "source": [
    "## Basic Variable Types #\n",
    "\n"
   ]
  },
  {
   "cell_type": "code",
   "execution_count": 1,
   "metadata": {},
   "outputs": [],
   "source": [
    "#============================================================================================#\n",
    "#                                        SCALARS                                             # \n",
    "#============================================================================================#\n",
    " \n",
    "# A scalar is type of variable (information stored) that is a single unit such as a number, \n",
    "# a character or a text block. \n",
    "\n",
    "# Below I will define a variable A to be equal to one as a number (numerical value), \n",
    "# string (text value), and annother string (text value with multiple characters)\n",
    "\n",
    "A = 1\n",
    "A = \"1\"\n",
    "A = \"ONE\"\n"
   ]
  },
  {
   "cell_type": "code",
   "execution_count": 2,
   "metadata": {},
   "outputs": [
    {
     "name": "stdout",
     "output_type": "stream",
     "text": [
      "2\n",
      "10\n"
     ]
    }
   ],
   "source": [
    "# The computer can store, organize and manipulate strings (text), but it can only calculate \n",
    "# with numbers. \n",
    "\n",
    "# As an example, check the following:\n",
    "\n",
    "A = 1\n",
    "\n",
    "print(A+A)\n",
    "print(A*10)"
   ]
  },
  {
   "cell_type": "code",
   "execution_count": 3,
   "metadata": {},
   "outputs": [
    {
     "name": "stdout",
     "output_type": "stream",
     "text": [
      "11\n",
      "1111111111\n"
     ]
    }
   ],
   "source": [
    "# If we try to do the same with strings (text), it treats it as text rather than a number. # \n",
    "\n",
    "A = \"1\"\n",
    "\n",
    "print(A+A)\n",
    "print(A*10)"
   ]
  },
  {
   "cell_type": "code",
   "execution_count": 4,
   "metadata": {},
   "outputs": [
    {
     "name": "stdout",
     "output_type": "stream",
     "text": [
      "OkOk\n",
      "OkOkOkOkOkOkOkOkOkOk\n"
     ]
    }
   ],
   "source": [
    "# We would have had the same result if we had defined it as a completley random word# \n",
    "\n",
    "A = \"Ok\"\n",
    "\n",
    "print(A+A)\n",
    "print(A*10)"
   ]
  },
  {
   "cell_type": "code",
   "execution_count": 5,
   "metadata": {},
   "outputs": [],
   "source": [
    "#============================================================================================#\n",
    "#                                         LISTS                                              # \n",
    "#============================================================================================#\n",
    "\n",
    "# We can put a number of different scalars (numbers of strings) into a group (called a list), \n",
    "# which can allow us to store and manipulate these data. \n",
    "\n",
    "# A list is anything enclosed in square brackets:, ie. A = [ Stuff in List ]\n",
    "\n",
    "# Below, I will define a list with various numbers inside. \n",
    "\n",
    "A = [1, 2, 3, 4, 5]"
   ]
  },
  {
   "cell_type": "code",
   "execution_count": 6,
   "metadata": {},
   "outputs": [
    {
     "name": "stdout",
     "output_type": "stream",
     "text": [
      "1\n",
      "5\n"
     ]
    }
   ],
   "source": [
    "# Lists are extreemly flexible. You can select the value at any position in a list based on \n",
    "# it's index (ie. number saying where it is.)\n",
    "\n",
    "# An example: \n",
    "\n",
    "A = [1, 2, 3, 4, 5]\n",
    "\n",
    "print(A[0])\n",
    "print(A[4])"
   ]
  },
  {
   "cell_type": "code",
   "execution_count": 7,
   "metadata": {},
   "outputs": [
    {
     "name": "stdout",
     "output_type": "stream",
     "text": [
      "[2, 3]\n"
     ]
    }
   ],
   "source": [
    "# You can create a range by selecting where this would begin and end with a colon in between:\n",
    "\n",
    "\n",
    "A = [1, 2, 3, 4, 5]\n",
    "\n",
    "# To give us everything between the 1st and 4th position (always one less becasue it starts at 0)\n",
    "# we simply add the index [1:3]\n",
    "\n",
    "print(A[1:3])"
   ]
  },
  {
   "cell_type": "code",
   "execution_count": 8,
   "metadata": {},
   "outputs": [
    {
     "name": "stdout",
     "output_type": "stream",
     "text": [
      "1\n",
      "2\n",
      "3\n",
      "4\n",
      "5\n"
     ]
    }
   ],
   "source": [
    "# One of the great features of lists is that you can perform an operation \n",
    "# on all values within the list. \n",
    "\n",
    "# To do this, we need to create a FOR loop. This means, we want to perform some operation FOR \n",
    "# every object in the list. \n",
    "\n",
    "# The syntax is literally: \"for x in LIST:\"\n",
    "\n",
    "# An example: \n",
    "\n",
    "for x in [1, 2, 3, 4, 5]:\n",
    "    # This could be any function below #\n",
    "    print(x)"
   ]
  },
  {
   "cell_type": "code",
   "execution_count": 9,
   "metadata": {},
   "outputs": [
    {
     "name": "stdout",
     "output_type": "stream",
     "text": [
      "1\n",
      "2\n",
      "3\n",
      "4\n",
      "5\n"
     ]
    }
   ],
   "source": [
    "# Of course, if we were to define A beforehand, then we could do this as: \n",
    "\n",
    "A = [1, 2, 3, 4, 5]\n",
    "for x in A:\n",
    "    # This could be any function below #\n",
    "    print(x)"
   ]
  },
  {
   "cell_type": "code",
   "execution_count": 10,
   "metadata": {},
   "outputs": [
    {
     "name": "stdout",
     "output_type": "stream",
     "text": [
      "1\n",
      "2\n",
      "3\n",
      "4\n",
      "5\n"
     ]
    }
   ],
   "source": [
    "A = [1, 2, 3, 4, 5]\n",
    "\n",
    "for x in A:\n",
    "    # This could be any function below #\n",
    "    print(x)"
   ]
  },
  {
   "cell_type": "code",
   "execution_count": 11,
   "metadata": {},
   "outputs": [],
   "source": [
    "#============================================================================================#\n",
    "#                                     DATAFRAMES                                             # \n",
    "#============================================================================================#\n",
    "\n",
    "# If you are going to be using python to work with data, the most useful thing to you will be \n",
    "# the DATAFRAME. You can think of a dataframe as an excel table that you cant really see. \n",
    "\n",
    "# Dataframes are not native to python, so we have to use a package called PANDAS in order to \n",
    "# gain this functionality. \n",
    "\n",
    "# To load a package simply state the following before using the code: \n",
    "\n",
    "import pandas as pd \n",
    "\n",
    "# Henceforth, whenever we want to use the panda functionality we can do this by refering to it \n",
    "# pd. \n",
    "# We could have named this anything. ie. import pandas as WHATEVER_WE_WANT_TO_CALL_IT"
   ]
  },
  {
   "cell_type": "code",
   "execution_count": 13,
   "metadata": {},
   "outputs": [
    {
     "name": "stdout",
     "output_type": "stream",
     "text": [
      "    Name Age Height\n",
      "0  Susan  25    190\n",
      "1  Helen  45    165\n",
      "2  Diane  32    160\n",
      "    Name Age Height\n",
      "0  Susan  25    190\n",
      "1  Helen  45    165\n",
      "2  Diane  32    160\n"
     ]
    }
   ],
   "source": [
    "# First, let's create a dataframe straight within python # \n",
    "\n",
    "# Say we have variables: Name, Age, Height(cm) and three observations. \n",
    "\n",
    "Data_S = [\"Susan\", \"25\", \"190\"]\n",
    "Data_H = [\"Helen\", \"45\", \"165\"]\n",
    "Data_D = [\"Diane\", \"32\", \"160\"]\n",
    "\n",
    "# We can create a dataframe using the following functionality: \n",
    "\n",
    "Data = pd.DataFrame( [Data_S, Data_H, Data_D] , columns = [\"Name\", \"Age\", \"Height\"])\n",
    "print(Data)\n",
    "\n",
    "# Imagine if our data was organized so that we had a column for each variable: \n",
    "\n",
    "Data_A = [\"Susan\", \"Helen\", \"Diane\"]\n",
    "Data_B = [\"25\", \"45\", \"32\"]\n",
    "Data_C = [\"190\", \"165\", \"160\"]\n",
    "\n",
    "# We would then have to reorganize our data using the *zip() function. This simply, \n",
    "# reorders the lists so that the first, second, third, etc. object of each list is grouped together \n",
    "\n",
    "Data = pd.DataFrame( list(zip(Data_A, Data_B, Data_C)) , columns = [\"Name\", \"Age\", \"Height\"])\n",
    "print(Data)\n"
   ]
  },
  {
   "cell_type": "code",
   "execution_count": 15,
   "metadata": {},
   "outputs": [
    {
     "name": "stdout",
     "output_type": "stream",
     "text": [
      " Volume in drive C has no label.\n",
      " Volume Serial Number is 4AC6-8CB1\n",
      "\n",
      " Directory of C:\\Users\\mmiric\\Desktop\\Workshop #1\\Datasets\\NBA Data\n",
      "\n",
      "01/12/2019  01:45 PM    <DIR>          .\n",
      "01/12/2019  01:45 PM    <DIR>          ..\n",
      "01/12/2019  01:42 PM    <DIR>          .ipynb_checkpoints\n",
      "12/24/2018  09:18 AM           173,572 [2018-12-23]-0021800494-LAC@GSW.csv\n",
      "12/27/2018  09:28 AM           175,002 [2018-12-26]-0021800511-SAC@LAC.csv\n",
      "12/29/2018  09:55 AM           180,181 [2018-12-28]-0021800526-LAC@LAL.csv\n",
      "12/30/2018  09:44 AM           172,405 [2018-12-29]-0021800535-SAS@LAC.csv\n",
      "01/02/2019  09:47 AM           189,010 [2019-01-01]-0021800553-PHI@LAC.csv\n",
      "01/05/2019  09:51 AM           165,125 [2019-01-04]-0021800573-LAC@PHX.csv\n",
      "01/07/2019  08:25 AM           168,280 [2019-01-06]-0021800586-ORL@LAC.csv\n",
      "01/09/2019  09:42 AM           171,567 [2019-01-08]-0021800606-CHA@LAC.csv\n",
      "01/12/2019  01:40 PM                72 CB.ipynb\n",
      "01/12/2019  01:45 PM           130,715 NBA Data Exploration.ipynb\n",
      "              10 File(s)      1,525,929 bytes\n",
      "               3 Dir(s)  121,109,897,216 bytes free\n"
     ]
    }
   ],
   "source": [
    "ls"
   ]
  },
  {
   "cell_type": "code",
   "execution_count": 14,
   "metadata": {},
   "outputs": [
    {
     "ename": "FileNotFoundError",
     "evalue": "File b'./[2018-11-08]-0021800165-LAC@POR.csv' does not exist",
     "output_type": "error",
     "traceback": [
      "\u001b[1;31m---------------------------------------------------------------------------\u001b[0m",
      "\u001b[1;31mFileNotFoundError\u001b[0m                         Traceback (most recent call last)",
      "\u001b[1;32m<ipython-input-14-e0f2eb634d21>\u001b[0m in \u001b[0;36m<module>\u001b[1;34m\u001b[0m\n\u001b[0;32m     12\u001b[0m \u001b[1;31m# We can make a dataframe straight from that file using the read_csv command.\u001b[0m\u001b[1;33m\u001b[0m\u001b[1;33m\u001b[0m\u001b[1;33m\u001b[0m\u001b[0m\n\u001b[0;32m     13\u001b[0m \u001b[1;33m\u001b[0m\u001b[0m\n\u001b[1;32m---> 14\u001b[1;33m \u001b[0mData\u001b[0m \u001b[1;33m=\u001b[0m \u001b[0mpd\u001b[0m\u001b[1;33m.\u001b[0m\u001b[0mread_csv\u001b[0m\u001b[1;33m(\u001b[0m\u001b[0mFILE\u001b[0m\u001b[1;33m)\u001b[0m\u001b[1;33m\u001b[0m\u001b[1;33m\u001b[0m\u001b[0m\n\u001b[0m",
      "\u001b[1;32m~\\Anaconda3\\lib\\site-packages\\pandas\\io\\parsers.py\u001b[0m in \u001b[0;36mparser_f\u001b[1;34m(filepath_or_buffer, sep, delimiter, header, names, index_col, usecols, squeeze, prefix, mangle_dupe_cols, dtype, engine, converters, true_values, false_values, skipinitialspace, skiprows, nrows, na_values, keep_default_na, na_filter, verbose, skip_blank_lines, parse_dates, infer_datetime_format, keep_date_col, date_parser, dayfirst, iterator, chunksize, compression, thousands, decimal, lineterminator, quotechar, quoting, escapechar, comment, encoding, dialect, tupleize_cols, error_bad_lines, warn_bad_lines, skipfooter, doublequote, delim_whitespace, low_memory, memory_map, float_precision)\u001b[0m\n\u001b[0;32m    676\u001b[0m                     skip_blank_lines=skip_blank_lines)\n\u001b[0;32m    677\u001b[0m \u001b[1;33m\u001b[0m\u001b[0m\n\u001b[1;32m--> 678\u001b[1;33m         \u001b[1;32mreturn\u001b[0m \u001b[0m_read\u001b[0m\u001b[1;33m(\u001b[0m\u001b[0mfilepath_or_buffer\u001b[0m\u001b[1;33m,\u001b[0m \u001b[0mkwds\u001b[0m\u001b[1;33m)\u001b[0m\u001b[1;33m\u001b[0m\u001b[1;33m\u001b[0m\u001b[0m\n\u001b[0m\u001b[0;32m    679\u001b[0m \u001b[1;33m\u001b[0m\u001b[0m\n\u001b[0;32m    680\u001b[0m     \u001b[0mparser_f\u001b[0m\u001b[1;33m.\u001b[0m\u001b[0m__name__\u001b[0m \u001b[1;33m=\u001b[0m \u001b[0mname\u001b[0m\u001b[1;33m\u001b[0m\u001b[1;33m\u001b[0m\u001b[0m\n",
      "\u001b[1;32m~\\Anaconda3\\lib\\site-packages\\pandas\\io\\parsers.py\u001b[0m in \u001b[0;36m_read\u001b[1;34m(filepath_or_buffer, kwds)\u001b[0m\n\u001b[0;32m    438\u001b[0m \u001b[1;33m\u001b[0m\u001b[0m\n\u001b[0;32m    439\u001b[0m     \u001b[1;31m# Create the parser.\u001b[0m\u001b[1;33m\u001b[0m\u001b[1;33m\u001b[0m\u001b[1;33m\u001b[0m\u001b[0m\n\u001b[1;32m--> 440\u001b[1;33m     \u001b[0mparser\u001b[0m \u001b[1;33m=\u001b[0m \u001b[0mTextFileReader\u001b[0m\u001b[1;33m(\u001b[0m\u001b[0mfilepath_or_buffer\u001b[0m\u001b[1;33m,\u001b[0m \u001b[1;33m**\u001b[0m\u001b[0mkwds\u001b[0m\u001b[1;33m)\u001b[0m\u001b[1;33m\u001b[0m\u001b[1;33m\u001b[0m\u001b[0m\n\u001b[0m\u001b[0;32m    441\u001b[0m \u001b[1;33m\u001b[0m\u001b[0m\n\u001b[0;32m    442\u001b[0m     \u001b[1;32mif\u001b[0m \u001b[0mchunksize\u001b[0m \u001b[1;32mor\u001b[0m \u001b[0miterator\u001b[0m\u001b[1;33m:\u001b[0m\u001b[1;33m\u001b[0m\u001b[1;33m\u001b[0m\u001b[0m\n",
      "\u001b[1;32m~\\Anaconda3\\lib\\site-packages\\pandas\\io\\parsers.py\u001b[0m in \u001b[0;36m__init__\u001b[1;34m(self, f, engine, **kwds)\u001b[0m\n\u001b[0;32m    785\u001b[0m             \u001b[0mself\u001b[0m\u001b[1;33m.\u001b[0m\u001b[0moptions\u001b[0m\u001b[1;33m[\u001b[0m\u001b[1;34m'has_index_names'\u001b[0m\u001b[1;33m]\u001b[0m \u001b[1;33m=\u001b[0m \u001b[0mkwds\u001b[0m\u001b[1;33m[\u001b[0m\u001b[1;34m'has_index_names'\u001b[0m\u001b[1;33m]\u001b[0m\u001b[1;33m\u001b[0m\u001b[1;33m\u001b[0m\u001b[0m\n\u001b[0;32m    786\u001b[0m \u001b[1;33m\u001b[0m\u001b[0m\n\u001b[1;32m--> 787\u001b[1;33m         \u001b[0mself\u001b[0m\u001b[1;33m.\u001b[0m\u001b[0m_make_engine\u001b[0m\u001b[1;33m(\u001b[0m\u001b[0mself\u001b[0m\u001b[1;33m.\u001b[0m\u001b[0mengine\u001b[0m\u001b[1;33m)\u001b[0m\u001b[1;33m\u001b[0m\u001b[1;33m\u001b[0m\u001b[0m\n\u001b[0m\u001b[0;32m    788\u001b[0m \u001b[1;33m\u001b[0m\u001b[0m\n\u001b[0;32m    789\u001b[0m     \u001b[1;32mdef\u001b[0m \u001b[0mclose\u001b[0m\u001b[1;33m(\u001b[0m\u001b[0mself\u001b[0m\u001b[1;33m)\u001b[0m\u001b[1;33m:\u001b[0m\u001b[1;33m\u001b[0m\u001b[1;33m\u001b[0m\u001b[0m\n",
      "\u001b[1;32m~\\Anaconda3\\lib\\site-packages\\pandas\\io\\parsers.py\u001b[0m in \u001b[0;36m_make_engine\u001b[1;34m(self, engine)\u001b[0m\n\u001b[0;32m   1012\u001b[0m     \u001b[1;32mdef\u001b[0m \u001b[0m_make_engine\u001b[0m\u001b[1;33m(\u001b[0m\u001b[0mself\u001b[0m\u001b[1;33m,\u001b[0m \u001b[0mengine\u001b[0m\u001b[1;33m=\u001b[0m\u001b[1;34m'c'\u001b[0m\u001b[1;33m)\u001b[0m\u001b[1;33m:\u001b[0m\u001b[1;33m\u001b[0m\u001b[1;33m\u001b[0m\u001b[0m\n\u001b[0;32m   1013\u001b[0m         \u001b[1;32mif\u001b[0m \u001b[0mengine\u001b[0m \u001b[1;33m==\u001b[0m \u001b[1;34m'c'\u001b[0m\u001b[1;33m:\u001b[0m\u001b[1;33m\u001b[0m\u001b[1;33m\u001b[0m\u001b[0m\n\u001b[1;32m-> 1014\u001b[1;33m             \u001b[0mself\u001b[0m\u001b[1;33m.\u001b[0m\u001b[0m_engine\u001b[0m \u001b[1;33m=\u001b[0m \u001b[0mCParserWrapper\u001b[0m\u001b[1;33m(\u001b[0m\u001b[0mself\u001b[0m\u001b[1;33m.\u001b[0m\u001b[0mf\u001b[0m\u001b[1;33m,\u001b[0m \u001b[1;33m**\u001b[0m\u001b[0mself\u001b[0m\u001b[1;33m.\u001b[0m\u001b[0moptions\u001b[0m\u001b[1;33m)\u001b[0m\u001b[1;33m\u001b[0m\u001b[1;33m\u001b[0m\u001b[0m\n\u001b[0m\u001b[0;32m   1015\u001b[0m         \u001b[1;32melse\u001b[0m\u001b[1;33m:\u001b[0m\u001b[1;33m\u001b[0m\u001b[1;33m\u001b[0m\u001b[0m\n\u001b[0;32m   1016\u001b[0m             \u001b[1;32mif\u001b[0m \u001b[0mengine\u001b[0m \u001b[1;33m==\u001b[0m \u001b[1;34m'python'\u001b[0m\u001b[1;33m:\u001b[0m\u001b[1;33m\u001b[0m\u001b[1;33m\u001b[0m\u001b[0m\n",
      "\u001b[1;32m~\\Anaconda3\\lib\\site-packages\\pandas\\io\\parsers.py\u001b[0m in \u001b[0;36m__init__\u001b[1;34m(self, src, **kwds)\u001b[0m\n\u001b[0;32m   1706\u001b[0m         \u001b[0mkwds\u001b[0m\u001b[1;33m[\u001b[0m\u001b[1;34m'usecols'\u001b[0m\u001b[1;33m]\u001b[0m \u001b[1;33m=\u001b[0m \u001b[0mself\u001b[0m\u001b[1;33m.\u001b[0m\u001b[0musecols\u001b[0m\u001b[1;33m\u001b[0m\u001b[1;33m\u001b[0m\u001b[0m\n\u001b[0;32m   1707\u001b[0m \u001b[1;33m\u001b[0m\u001b[0m\n\u001b[1;32m-> 1708\u001b[1;33m         \u001b[0mself\u001b[0m\u001b[1;33m.\u001b[0m\u001b[0m_reader\u001b[0m \u001b[1;33m=\u001b[0m \u001b[0mparsers\u001b[0m\u001b[1;33m.\u001b[0m\u001b[0mTextReader\u001b[0m\u001b[1;33m(\u001b[0m\u001b[0msrc\u001b[0m\u001b[1;33m,\u001b[0m \u001b[1;33m**\u001b[0m\u001b[0mkwds\u001b[0m\u001b[1;33m)\u001b[0m\u001b[1;33m\u001b[0m\u001b[1;33m\u001b[0m\u001b[0m\n\u001b[0m\u001b[0;32m   1709\u001b[0m \u001b[1;33m\u001b[0m\u001b[0m\n\u001b[0;32m   1710\u001b[0m         \u001b[0mpassed_names\u001b[0m \u001b[1;33m=\u001b[0m \u001b[0mself\u001b[0m\u001b[1;33m.\u001b[0m\u001b[0mnames\u001b[0m \u001b[1;32mis\u001b[0m \u001b[1;32mNone\u001b[0m\u001b[1;33m\u001b[0m\u001b[1;33m\u001b[0m\u001b[0m\n",
      "\u001b[1;32mpandas\\_libs\\parsers.pyx\u001b[0m in \u001b[0;36mpandas._libs.parsers.TextReader.__cinit__\u001b[1;34m()\u001b[0m\n",
      "\u001b[1;32mpandas\\_libs\\parsers.pyx\u001b[0m in \u001b[0;36mpandas._libs.parsers.TextReader._setup_parser_source\u001b[1;34m()\u001b[0m\n",
      "\u001b[1;31mFileNotFoundError\u001b[0m: File b'./[2018-11-08]-0021800165-LAC@POR.csv' does not exist"
     ]
    }
   ],
   "source": [
    "# Second, let's create a dataframe with imported data #\n",
    "\n",
    "# Let's begin by exploring the files that are currently in our directory. \n",
    "\n",
    "# Let's say that we want the data in the folder \"SAMPLE DATA\", and we want the file called, \n",
    "# [2018-11-08]-0021800165-LAC@POR.csv \n",
    "\n",
    "# We can define the path as : \n",
    "\n",
    "FILE = \"./[2018-12-23]-0021800494-LAC@GSW.csv\"\n",
    "\n",
    "# We can make a dataframe straight from that file using the read_csv command.  \n",
    "\n",
    "Data = pd.read_csv(FILE)"
   ]
  },
  {
   "cell_type": "code",
   "execution_count": 50,
   "metadata": {},
   "outputs": [
    {
     "data": {
      "text/plain": [
       "(471, 44)"
      ]
     },
     "execution_count": 50,
     "metadata": {},
     "output_type": "execute_result"
    }
   ],
   "source": [
    "# If we want to see the size of this dataframe, we can use the shape command #\n",
    "\n",
    "Data.shape\n"
   ]
  },
  {
   "cell_type": "code",
   "execution_count": 52,
   "metadata": {},
   "outputs": [
    {
     "data": {
      "text/html": [
       "<div>\n",
       "<style>\n",
       "    .dataframe thead tr:only-child th {\n",
       "        text-align: right;\n",
       "    }\n",
       "\n",
       "    .dataframe thead th {\n",
       "        text-align: left;\n",
       "    }\n",
       "\n",
       "    .dataframe tbody tr th {\n",
       "        vertical-align: top;\n",
       "    }\n",
       "</style>\n",
       "<table border=\"1\" class=\"dataframe\">\n",
       "  <thead>\n",
       "    <tr style=\"text-align: right;\">\n",
       "      <th></th>\n",
       "      <th>game_id</th>\n",
       "      <th>data_set</th>\n",
       "      <th>date</th>\n",
       "      <th>a1</th>\n",
       "      <th>a2</th>\n",
       "      <th>a3</th>\n",
       "      <th>a4</th>\n",
       "      <th>a5</th>\n",
       "      <th>h1</th>\n",
       "      <th>h2</th>\n",
       "      <th>...</th>\n",
       "      <th>reason</th>\n",
       "      <th>result</th>\n",
       "      <th>steal</th>\n",
       "      <th>type</th>\n",
       "      <th>shot_distance</th>\n",
       "      <th>original_x</th>\n",
       "      <th>original_y</th>\n",
       "      <th>converted_x</th>\n",
       "      <th>converted_y</th>\n",
       "      <th>description</th>\n",
       "    </tr>\n",
       "  </thead>\n",
       "  <tbody>\n",
       "    <tr>\n",
       "      <th>466</th>\n",
       "      <td>=\"0021800165\"</td>\n",
       "      <td>2018-2019 Regular Season</td>\n",
       "      <td>2018-11-08</td>\n",
       "      <td>Tobias Harris</td>\n",
       "      <td>Danilo Gallinari</td>\n",
       "      <td>Patrick Beverley</td>\n",
       "      <td>Montrezl Harrell</td>\n",
       "      <td>Lou Williams</td>\n",
       "      <td>Evan Turner</td>\n",
       "      <td>Damian Lillard</td>\n",
       "      <td>...</td>\n",
       "      <td>NaN</td>\n",
       "      <td>NaN</td>\n",
       "      <td>NaN</td>\n",
       "      <td>rebound defensive</td>\n",
       "      <td>NaN</td>\n",
       "      <td>NaN</td>\n",
       "      <td>NaN</td>\n",
       "      <td>NaN</td>\n",
       "      <td>NaN</td>\n",
       "      <td>Aminu REBOUND (Off:1 Def:7)</td>\n",
       "    </tr>\n",
       "    <tr>\n",
       "      <th>467</th>\n",
       "      <td>=\"0021800165\"</td>\n",
       "      <td>2018-2019 Regular Season</td>\n",
       "      <td>2018-11-08</td>\n",
       "      <td>Tobias Harris</td>\n",
       "      <td>Danilo Gallinari</td>\n",
       "      <td>Patrick Beverley</td>\n",
       "      <td>Montrezl Harrell</td>\n",
       "      <td>Lou Williams</td>\n",
       "      <td>Evan Turner</td>\n",
       "      <td>Damian Lillard</td>\n",
       "      <td>...</td>\n",
       "      <td>NaN</td>\n",
       "      <td>missed</td>\n",
       "      <td>NaN</td>\n",
       "      <td>Jump Shot</td>\n",
       "      <td>25.0</td>\n",
       "      <td>111.0</td>\n",
       "      <td>219.0</td>\n",
       "      <td>36.1</td>\n",
       "      <td>67.1</td>\n",
       "      <td>MISS McCollum 25' 3PT Jump Shot</td>\n",
       "    </tr>\n",
       "    <tr>\n",
       "      <th>468</th>\n",
       "      <td>=\"0021800165\"</td>\n",
       "      <td>2018-2019 Regular Season</td>\n",
       "      <td>2018-11-08</td>\n",
       "      <td>Tobias Harris</td>\n",
       "      <td>Danilo Gallinari</td>\n",
       "      <td>Patrick Beverley</td>\n",
       "      <td>Montrezl Harrell</td>\n",
       "      <td>Lou Williams</td>\n",
       "      <td>Evan Turner</td>\n",
       "      <td>Damian Lillard</td>\n",
       "      <td>...</td>\n",
       "      <td>NaN</td>\n",
       "      <td>NaN</td>\n",
       "      <td>NaN</td>\n",
       "      <td>team rebound</td>\n",
       "      <td>NaN</td>\n",
       "      <td>NaN</td>\n",
       "      <td>NaN</td>\n",
       "      <td>NaN</td>\n",
       "      <td>NaN</td>\n",
       "      <td>TRAIL BLAZERS Rebound</td>\n",
       "    </tr>\n",
       "    <tr>\n",
       "      <th>469</th>\n",
       "      <td>=\"0021800165\"</td>\n",
       "      <td>2018-2019 Regular Season</td>\n",
       "      <td>2018-11-08</td>\n",
       "      <td>Tobias Harris</td>\n",
       "      <td>Danilo Gallinari</td>\n",
       "      <td>Patrick Beverley</td>\n",
       "      <td>Montrezl Harrell</td>\n",
       "      <td>Lou Williams</td>\n",
       "      <td>Evan Turner</td>\n",
       "      <td>Damian Lillard</td>\n",
       "      <td>...</td>\n",
       "      <td>turnover: shot clock</td>\n",
       "      <td>NaN</td>\n",
       "      <td>NaN</td>\n",
       "      <td>turnover: shot clock</td>\n",
       "      <td>NaN</td>\n",
       "      <td>NaN</td>\n",
       "      <td>NaN</td>\n",
       "      <td>NaN</td>\n",
       "      <td>NaN</td>\n",
       "      <td>TRAIL BLAZERS Turnover: Shot Clock (T#7)</td>\n",
       "    </tr>\n",
       "    <tr>\n",
       "      <th>470</th>\n",
       "      <td>=\"0021800165\"</td>\n",
       "      <td>2018-2019 Regular Season</td>\n",
       "      <td>2018-11-08</td>\n",
       "      <td>Tobias Harris</td>\n",
       "      <td>Danilo Gallinari</td>\n",
       "      <td>Patrick Beverley</td>\n",
       "      <td>Montrezl Harrell</td>\n",
       "      <td>Lou Williams</td>\n",
       "      <td>Evan Turner</td>\n",
       "      <td>Damian Lillard</td>\n",
       "      <td>...</td>\n",
       "      <td>NaN</td>\n",
       "      <td>NaN</td>\n",
       "      <td>NaN</td>\n",
       "      <td>end of period</td>\n",
       "      <td>NaN</td>\n",
       "      <td>NaN</td>\n",
       "      <td>NaN</td>\n",
       "      <td>NaN</td>\n",
       "      <td>NaN</td>\n",
       "      <td>NaN</td>\n",
       "    </tr>\n",
       "  </tbody>\n",
       "</table>\n",
       "<p>5 rows × 44 columns</p>\n",
       "</div>"
      ],
      "text/plain": [
       "           game_id                  data_set        date             a1  \\\n",
       "466  =\"0021800165\"  2018-2019 Regular Season  2018-11-08  Tobias Harris   \n",
       "467  =\"0021800165\"  2018-2019 Regular Season  2018-11-08  Tobias Harris   \n",
       "468  =\"0021800165\"  2018-2019 Regular Season  2018-11-08  Tobias Harris   \n",
       "469  =\"0021800165\"  2018-2019 Regular Season  2018-11-08  Tobias Harris   \n",
       "470  =\"0021800165\"  2018-2019 Regular Season  2018-11-08  Tobias Harris   \n",
       "\n",
       "                   a2                a3                a4            a5  \\\n",
       "466  Danilo Gallinari  Patrick Beverley  Montrezl Harrell  Lou Williams   \n",
       "467  Danilo Gallinari  Patrick Beverley  Montrezl Harrell  Lou Williams   \n",
       "468  Danilo Gallinari  Patrick Beverley  Montrezl Harrell  Lou Williams   \n",
       "469  Danilo Gallinari  Patrick Beverley  Montrezl Harrell  Lou Williams   \n",
       "470  Danilo Gallinari  Patrick Beverley  Montrezl Harrell  Lou Williams   \n",
       "\n",
       "              h1              h2                    ...                     \\\n",
       "466  Evan Turner  Damian Lillard                    ...                      \n",
       "467  Evan Turner  Damian Lillard                    ...                      \n",
       "468  Evan Turner  Damian Lillard                    ...                      \n",
       "469  Evan Turner  Damian Lillard                    ...                      \n",
       "470  Evan Turner  Damian Lillard                    ...                      \n",
       "\n",
       "                   reason  result steal                  type  shot_distance  \\\n",
       "466                   NaN     NaN   NaN     rebound defensive            NaN   \n",
       "467                   NaN  missed   NaN             Jump Shot           25.0   \n",
       "468                   NaN     NaN   NaN          team rebound            NaN   \n",
       "469  turnover: shot clock     NaN   NaN  turnover: shot clock            NaN   \n",
       "470                   NaN     NaN   NaN         end of period            NaN   \n",
       "\n",
       "     original_x original_y converted_x converted_y  \\\n",
       "466         NaN        NaN         NaN         NaN   \n",
       "467       111.0      219.0        36.1        67.1   \n",
       "468         NaN        NaN         NaN         NaN   \n",
       "469         NaN        NaN         NaN         NaN   \n",
       "470         NaN        NaN         NaN         NaN   \n",
       "\n",
       "                                  description  \n",
       "466               Aminu REBOUND (Off:1 Def:7)  \n",
       "467           MISS McCollum 25' 3PT Jump Shot  \n",
       "468                     TRAIL BLAZERS Rebound  \n",
       "469  TRAIL BLAZERS Turnover: Shot Clock (T#7)  \n",
       "470                                       NaN  \n",
       "\n",
       "[5 rows x 44 columns]"
      ]
     },
     "execution_count": 52,
     "metadata": {},
     "output_type": "execute_result"
    }
   ],
   "source": [
    "# If we want to see the first 5 or last five rows, we can use the head and tail commands #\n",
    "\n",
    "Data.head(5)\n",
    "Data.tail(5)"
   ]
  },
  {
   "cell_type": "code",
   "execution_count": 53,
   "metadata": {},
   "outputs": [
    {
     "data": {
      "text/plain": [
       "Index([u'game_id', u'data_set', u'date', u'a1', u'a2', u'a3', u'a4', u'a5',\n",
       "       u'h1', u'h2', u'h3', u'h4', u'h5', u'period', u'away_score',\n",
       "       u'home_score', u'remaining_time', u'elapsed', u'play_length',\n",
       "       u'play_id', u'team', u'event_type', u'assist', u'away', u'home',\n",
       "       u'block', u'entered', u'left', u'num', u'opponent', u'outof', u'player',\n",
       "       u'points', u'possession', u'reason', u'result', u'steal', u'type',\n",
       "       u'shot_distance', u'original_x', u'original_y', u'converted_x',\n",
       "       u'converted_y', u'description'],\n",
       "      dtype='object')"
      ]
     },
     "execution_count": 53,
     "metadata": {},
     "output_type": "execute_result"
    }
   ],
   "source": [
    "# If we want to see what the columns are in our data, we can run the following commands #\n",
    "\n",
    "Data.columns"
   ]
  },
  {
   "cell_type": "markdown",
   "metadata": {},
   "source": [
    "## Exploring and Visualizing Data"
   ]
  },
  {
   "cell_type": "code",
   "execution_count": 56,
   "metadata": {},
   "outputs": [
    {
     "data": {
      "text/plain": [
       "count    471.000000\n",
       "mean      60.093418\n",
       "std       31.807395\n",
       "min        0.000000\n",
       "25%       37.000000\n",
       "50%       61.000000\n",
       "75%       84.000000\n",
       "max      116.000000\n",
       "Name: home_score, dtype: float64"
      ]
     },
     "execution_count": 56,
     "metadata": {},
     "output_type": "execute_result"
    }
   ],
   "source": [
    "# You generally need to explore the data in order to understand it. \n",
    "\n",
    "# Let's say  that we want to understand the variable 'home_score'\n",
    "\n",
    "# We can isolate just that column with the command: \n",
    "\n",
    "Data['home_score']\n",
    "\n",
    "# This on it's own may not be useful. However, we can also get descriptive statistics using \n",
    "# the describe command. \n",
    "\n",
    "Data['home_score'].describe()"
   ]
  },
  {
   "cell_type": "code",
   "execution_count": 60,
   "metadata": {},
   "outputs": [
    {
     "data": {
      "text/plain": [
       "count                    6\n",
       "unique                   6\n",
       "top       Patrick Beverley\n",
       "freq                     1\n",
       "Name: steal, dtype: object"
      ]
     },
     "execution_count": 60,
     "metadata": {},
     "output_type": "execute_result"
    }
   ],
   "source": [
    "# We may want to explore additional variables #\n",
    "\n",
    "Data['steal'].describe()"
   ]
  },
  {
   "cell_type": "code",
   "execution_count": 59,
   "metadata": {},
   "outputs": [
    {
     "data": {
      "text/plain": [
       "array([nan, 'Damian Lillard', 'Caleb Swanigan', 'Al-Farouq Aminu',\n",
       "       'Evan Turner', 'Montrezl Harrell', 'Patrick Beverley'], dtype=object)"
      ]
     },
     "execution_count": 59,
     "metadata": {},
     "output_type": "execute_result"
    }
   ],
   "source": [
    "# In this case it is not a numerical variable. To understand it more clearly, we might want to \n",
    "# look at the unique variables that appear. \n",
    "\n",
    "Data['steal'].unique()"
   ]
  },
  {
   "cell_type": "code",
   "execution_count": 64,
   "metadata": {},
   "outputs": [
    {
     "data": {
      "text/plain": [
       "0                 NaN\n",
       "1    Boban Marjanovic\n",
       "2    Boban Marjanovic\n",
       "3        Jusuf Nurkic\n",
       "4      Damian Lillard\n",
       "Name: player, dtype: object"
      ]
     },
     "execution_count": 64,
     "metadata": {},
     "output_type": "execute_result"
    }
   ],
   "source": [
    "Data['player'].head()"
   ]
  },
  {
   "cell_type": "code",
   "execution_count": 66,
   "metadata": {},
   "outputs": [
    {
     "data": {
      "text/plain": [
       "array(['start of period', 'violation', 'jump ball', 'miss', 'rebound',\n",
       "       'foul', 'unknown', 'free throw', 'shot', 'timeout', 'sub',\n",
       "       'turnover', 'end of period'], dtype=object)"
      ]
     },
     "execution_count": 66,
     "metadata": {},
     "output_type": "execute_result"
    }
   ],
   "source": [
    "Data['event_type'].unique()"
   ]
  },
  {
   "cell_type": "code",
   "execution_count": 71,
   "metadata": {},
   "outputs": [],
   "source": [
    "# Now, suppose that we want to analyze the shots. By exploring the data a bit we find that \n",
    "# if the row in question is representing a \"Shot\", then the 'points' column will be either 0, 1, \n",
    "# 2, or 3. \n",
    "\n",
    "# We can select these with the loc command like this#. \n",
    "\n",
    "NonShots = Data.loc[ Data['points'].isnull()]\n",
    "Shots = Data.loc[-Data['points'].isnull()]"
   ]
  },
  {
   "cell_type": "code",
   "execution_count": 77,
   "metadata": {},
   "outputs": [
    {
     "data": {
      "text/html": [
       "<div>\n",
       "<style>\n",
       "    .dataframe thead tr:only-child th {\n",
       "        text-align: right;\n",
       "    }\n",
       "\n",
       "    .dataframe thead th {\n",
       "        text-align: left;\n",
       "    }\n",
       "\n",
       "    .dataframe tbody tr th {\n",
       "        vertical-align: top;\n",
       "    }\n",
       "</style>\n",
       "<table border=\"1\" class=\"dataframe\">\n",
       "  <thead>\n",
       "    <tr style=\"text-align: right;\">\n",
       "      <th></th>\n",
       "      <th>points</th>\n",
       "    </tr>\n",
       "    <tr>\n",
       "      <th>team</th>\n",
       "      <th></th>\n",
       "    </tr>\n",
       "  </thead>\n",
       "  <tbody>\n",
       "    <tr>\n",
       "      <th>LAC</th>\n",
       "      <td>105.0</td>\n",
       "    </tr>\n",
       "    <tr>\n",
       "      <th>POR</th>\n",
       "      <td>116.0</td>\n",
       "    </tr>\n",
       "  </tbody>\n",
       "</table>\n",
       "</div>"
      ],
      "text/plain": [
       "      points\n",
       "team        \n",
       "LAC    105.0\n",
       "POR    116.0"
      ]
     },
     "execution_count": 77,
     "metadata": {},
     "output_type": "execute_result"
    }
   ],
   "source": [
    "# Now, suppose we want to first figure out the result of the game # \n",
    "\n",
    "# Pivot tables provide a very nice and easy way of doing this # \n",
    "\n",
    "import numpy as np \n",
    "\n",
    "pd.pivot_table(data = Shots, index = \"team\", values = \"points\", aggfunc = np.sum)\n"
   ]
  },
  {
   "cell_type": "code",
   "execution_count": 79,
   "metadata": {},
   "outputs": [
    {
     "data": {
      "text/html": [
       "<div>\n",
       "<style>\n",
       "    .dataframe thead tr:only-child th {\n",
       "        text-align: right;\n",
       "    }\n",
       "\n",
       "    .dataframe thead th {\n",
       "        text-align: left;\n",
       "    }\n",
       "\n",
       "    .dataframe tbody tr th {\n",
       "        vertical-align: top;\n",
       "    }\n",
       "</style>\n",
       "<table border=\"1\" class=\"dataframe\">\n",
       "  <thead>\n",
       "    <tr style=\"text-align: right;\">\n",
       "      <th></th>\n",
       "      <th>points</th>\n",
       "    </tr>\n",
       "    <tr>\n",
       "      <th>player</th>\n",
       "      <th></th>\n",
       "    </tr>\n",
       "  </thead>\n",
       "  <tbody>\n",
       "    <tr>\n",
       "      <th>Al-Farouq Aminu</th>\n",
       "      <td>11.0</td>\n",
       "    </tr>\n",
       "    <tr>\n",
       "      <th>Boban Marjanovic</th>\n",
       "      <td>4.0</td>\n",
       "    </tr>\n",
       "    <tr>\n",
       "      <th>CJ McCollum</th>\n",
       "      <td>23.0</td>\n",
       "    </tr>\n",
       "    <tr>\n",
       "      <th>Caleb Swanigan</th>\n",
       "      <td>4.0</td>\n",
       "    </tr>\n",
       "    <tr>\n",
       "      <th>Damian Lillard</th>\n",
       "      <td>25.0</td>\n",
       "    </tr>\n",
       "    <tr>\n",
       "      <th>Danilo Gallinari</th>\n",
       "      <td>20.0</td>\n",
       "    </tr>\n",
       "    <tr>\n",
       "      <th>Evan Turner</th>\n",
       "      <td>7.0</td>\n",
       "    </tr>\n",
       "    <tr>\n",
       "      <th>Jake Layman</th>\n",
       "      <td>0.0</td>\n",
       "    </tr>\n",
       "    <tr>\n",
       "      <th>Jerome Robinson</th>\n",
       "      <td>2.0</td>\n",
       "    </tr>\n",
       "    <tr>\n",
       "      <th>Jusuf Nurkic</th>\n",
       "      <td>16.0</td>\n",
       "    </tr>\n",
       "    <tr>\n",
       "      <th>Lou Williams</th>\n",
       "      <td>20.0</td>\n",
       "    </tr>\n",
       "    <tr>\n",
       "      <th>Meyers Leonard</th>\n",
       "      <td>7.0</td>\n",
       "    </tr>\n",
       "    <tr>\n",
       "      <th>Mike Scott</th>\n",
       "      <td>2.0</td>\n",
       "    </tr>\n",
       "    <tr>\n",
       "      <th>Milos Teodosic</th>\n",
       "      <td>0.0</td>\n",
       "    </tr>\n",
       "    <tr>\n",
       "      <th>Montrezl Harrell</th>\n",
       "      <td>19.0</td>\n",
       "    </tr>\n",
       "    <tr>\n",
       "      <th>Nik Stauskas</th>\n",
       "      <td>8.0</td>\n",
       "    </tr>\n",
       "    <tr>\n",
       "      <th>Patrick Beverley</th>\n",
       "      <td>4.0</td>\n",
       "    </tr>\n",
       "    <tr>\n",
       "      <th>Seth Curry</th>\n",
       "      <td>5.0</td>\n",
       "    </tr>\n",
       "    <tr>\n",
       "      <th>Shai Gilgeous-Alexander</th>\n",
       "      <td>19.0</td>\n",
       "    </tr>\n",
       "    <tr>\n",
       "      <th>Tobias Harris</th>\n",
       "      <td>15.0</td>\n",
       "    </tr>\n",
       "    <tr>\n",
       "      <th>Zach Collins</th>\n",
       "      <td>10.0</td>\n",
       "    </tr>\n",
       "  </tbody>\n",
       "</table>\n",
       "</div>"
      ],
      "text/plain": [
       "                         points\n",
       "player                         \n",
       "Al-Farouq Aminu            11.0\n",
       "Boban Marjanovic            4.0\n",
       "CJ McCollum                23.0\n",
       "Caleb Swanigan              4.0\n",
       "Damian Lillard             25.0\n",
       "Danilo Gallinari           20.0\n",
       "Evan Turner                 7.0\n",
       "Jake Layman                 0.0\n",
       "Jerome Robinson             2.0\n",
       "Jusuf Nurkic               16.0\n",
       "Lou Williams               20.0\n",
       "Meyers Leonard              7.0\n",
       "Mike Scott                  2.0\n",
       "Milos Teodosic              0.0\n",
       "Montrezl Harrell           19.0\n",
       "Nik Stauskas                8.0\n",
       "Patrick Beverley            4.0\n",
       "Seth Curry                  5.0\n",
       "Shai Gilgeous-Alexander    19.0\n",
       "Tobias Harris              15.0\n",
       "Zach Collins               10.0"
      ]
     },
     "execution_count": 79,
     "metadata": {},
     "output_type": "execute_result"
    }
   ],
   "source": [
    "# Suppose we want a bit more detail and we want to see who scored #\n",
    "\n",
    "pd.pivot_table(data = Shots, index = \"player\", values = \"points\", aggfunc = np.sum)\n"
   ]
  },
  {
   "cell_type": "code",
   "execution_count": 81,
   "metadata": {},
   "outputs": [
    {
     "data": {
      "text/html": [
       "<div>\n",
       "<style>\n",
       "    .dataframe thead tr:only-child th {\n",
       "        text-align: right;\n",
       "    }\n",
       "\n",
       "    .dataframe thead th {\n",
       "        text-align: left;\n",
       "    }\n",
       "\n",
       "    .dataframe tbody tr th {\n",
       "        vertical-align: top;\n",
       "    }\n",
       "</style>\n",
       "<table border=\"1\" class=\"dataframe\">\n",
       "  <thead>\n",
       "    <tr style=\"text-align: right;\">\n",
       "      <th></th>\n",
       "      <th>points</th>\n",
       "    </tr>\n",
       "    <tr>\n",
       "      <th>player</th>\n",
       "      <th></th>\n",
       "    </tr>\n",
       "  </thead>\n",
       "  <tbody>\n",
       "    <tr>\n",
       "      <th>Damian Lillard</th>\n",
       "      <td>25.0</td>\n",
       "    </tr>\n",
       "    <tr>\n",
       "      <th>CJ McCollum</th>\n",
       "      <td>23.0</td>\n",
       "    </tr>\n",
       "    <tr>\n",
       "      <th>Lou Williams</th>\n",
       "      <td>20.0</td>\n",
       "    </tr>\n",
       "    <tr>\n",
       "      <th>Danilo Gallinari</th>\n",
       "      <td>20.0</td>\n",
       "    </tr>\n",
       "    <tr>\n",
       "      <th>Shai Gilgeous-Alexander</th>\n",
       "      <td>19.0</td>\n",
       "    </tr>\n",
       "    <tr>\n",
       "      <th>Montrezl Harrell</th>\n",
       "      <td>19.0</td>\n",
       "    </tr>\n",
       "    <tr>\n",
       "      <th>Jusuf Nurkic</th>\n",
       "      <td>16.0</td>\n",
       "    </tr>\n",
       "    <tr>\n",
       "      <th>Tobias Harris</th>\n",
       "      <td>15.0</td>\n",
       "    </tr>\n",
       "    <tr>\n",
       "      <th>Al-Farouq Aminu</th>\n",
       "      <td>11.0</td>\n",
       "    </tr>\n",
       "    <tr>\n",
       "      <th>Zach Collins</th>\n",
       "      <td>10.0</td>\n",
       "    </tr>\n",
       "    <tr>\n",
       "      <th>Nik Stauskas</th>\n",
       "      <td>8.0</td>\n",
       "    </tr>\n",
       "    <tr>\n",
       "      <th>Meyers Leonard</th>\n",
       "      <td>7.0</td>\n",
       "    </tr>\n",
       "    <tr>\n",
       "      <th>Evan Turner</th>\n",
       "      <td>7.0</td>\n",
       "    </tr>\n",
       "    <tr>\n",
       "      <th>Seth Curry</th>\n",
       "      <td>5.0</td>\n",
       "    </tr>\n",
       "    <tr>\n",
       "      <th>Boban Marjanovic</th>\n",
       "      <td>4.0</td>\n",
       "    </tr>\n",
       "    <tr>\n",
       "      <th>Patrick Beverley</th>\n",
       "      <td>4.0</td>\n",
       "    </tr>\n",
       "    <tr>\n",
       "      <th>Caleb Swanigan</th>\n",
       "      <td>4.0</td>\n",
       "    </tr>\n",
       "    <tr>\n",
       "      <th>Jerome Robinson</th>\n",
       "      <td>2.0</td>\n",
       "    </tr>\n",
       "    <tr>\n",
       "      <th>Mike Scott</th>\n",
       "      <td>2.0</td>\n",
       "    </tr>\n",
       "    <tr>\n",
       "      <th>Milos Teodosic</th>\n",
       "      <td>0.0</td>\n",
       "    </tr>\n",
       "    <tr>\n",
       "      <th>Jake Layman</th>\n",
       "      <td>0.0</td>\n",
       "    </tr>\n",
       "  </tbody>\n",
       "</table>\n",
       "</div>"
      ],
      "text/plain": [
       "                         points\n",
       "player                         \n",
       "Damian Lillard             25.0\n",
       "CJ McCollum                23.0\n",
       "Lou Williams               20.0\n",
       "Danilo Gallinari           20.0\n",
       "Shai Gilgeous-Alexander    19.0\n",
       "Montrezl Harrell           19.0\n",
       "Jusuf Nurkic               16.0\n",
       "Tobias Harris              15.0\n",
       "Al-Farouq Aminu            11.0\n",
       "Zach Collins               10.0\n",
       "Nik Stauskas                8.0\n",
       "Meyers Leonard              7.0\n",
       "Evan Turner                 7.0\n",
       "Seth Curry                  5.0\n",
       "Boban Marjanovic            4.0\n",
       "Patrick Beverley            4.0\n",
       "Caleb Swanigan              4.0\n",
       "Jerome Robinson             2.0\n",
       "Mike Scott                  2.0\n",
       "Milos Teodosic              0.0\n",
       "Jake Layman                 0.0"
      ]
     },
     "execution_count": 81,
     "metadata": {},
     "output_type": "execute_result"
    }
   ],
   "source": [
    "# This is messy, so let's reorder the data as well # \n",
    "\n",
    "pd.pivot_table(data = Shots, index = \"player\", values = \"points\", aggfunc = np.sum).sort_values('points', ascending = False)\n"
   ]
  },
  {
   "cell_type": "code",
   "execution_count": 95,
   "metadata": {},
   "outputs": [
    {
     "data": {
      "image/png": "[encoded data removed]",
      "text/plain": [
       "<matplotlib.figure.Figure at 0x1a0c00f5d0>"
      ]
     },
     "metadata": {},
     "output_type": "display_data"
    }
   ],
   "source": [
    "import seaborn as sns\n",
    "import matplotlib.pyplot as plt\n",
    "\n",
    "graphdata = pd.pivot_table(data = Shots, index = \"player\", values = \"points\", aggfunc = np.sum).sort_values('points', ascending = False).reset_index()\n",
    "\n",
    "sns.barplot(data = graphdata, x = 'points', y = 'player')\n",
    "plt.show()"
   ]
  },
  {
   "cell_type": "code",
   "execution_count": 148,
   "metadata": {},
   "outputs": [
    {
     "name": "stderr",
     "output_type": "stream",
     "text": [
      "/anaconda2/lib/python2.7/site-packages/ipykernel_launcher.py:1: SettingWithCopyWarning: \n",
      "A value is trying to be set on a copy of a slice from a DataFrame.\n",
      "Try using .loc[row_indexer,col_indexer] = value instead\n",
      "\n",
      "See the caveats in the documentation: http://pandas.pydata.org/pandas-docs/stable/indexing.html#indexing-view-versus-copy\n",
      "  \"\"\"Entry point for launching an IPython kernel.\n"
     ]
    }
   ],
   "source": [
    "Shots['play_length'] = pd.to_datetime(Shots['play_length'], format='%H:%M:%S')\n",
    "\n",
    "#Shots.loc[Shots['result']=='made']['play_length'].hist(bins = 10)\n",
    "#Shots.loc[Shots['result']=='missed']['play_length'].hist(bins = 10)\n",
    "#plt.show()"
   ]
  },
  {
   "cell_type": "code",
   "execution_count": 155,
   "metadata": {},
   "outputs": [
    {
     "name": "stderr",
     "output_type": "stream",
     "text": [
      "/anaconda2/lib/python2.7/site-packages/ipykernel_launcher.py:1: SettingWithCopyWarning: \n",
      "A value is trying to be set on a copy of a slice from a DataFrame.\n",
      "Try using .loc[row_indexer,col_indexer] = value instead\n",
      "\n",
      "See the caveats in the documentation: http://pandas.pydata.org/pandas-docs/stable/indexing.html#indexing-view-versus-copy\n",
      "  \"\"\"Entry point for launching an IPython kernel.\n"
     ]
    }
   ],
   "source": [
    " Shots['PLAY_TIME'] = pd.to_datetime(Shots['play_length'], format='%H:%M:%S').dt.second"
   ]
  },
  {
   "cell_type": "code",
   "execution_count": 171,
   "metadata": {},
   "outputs": [
    {
     "data": {
      "image/png": "[encoded data removed]",
      "text/plain": [
       "<matplotlib.figure.Figure at 0x1a1597d690>"
      ]
     },
     "metadata": {},
     "output_type": "display_data"
    }
   ],
   "source": [
    "sns.distplot(Shots.loc[Shots['result'] == 'made']['PLAY_TIME'], kde = True, hist = False)\n",
    "sns.distplot(Shots.loc[Shots['result'] == 'missed']['PLAY_TIME'], kde = True, hist = False)\n",
    "plt.xlim(0,45)\n",
    "plt.show()"
   ]
  },
  {
   "cell_type": "code",
   "execution_count": 190,
   "metadata": {},
   "outputs": [
    {
     "name": "stderr",
     "output_type": "stream",
     "text": [
      "/anaconda2/lib/python2.7/site-packages/statsmodels/nonparametric/kde.py:454: RuntimeWarning: invalid value encountered in greater\n",
      "  X = X[np.logical_and(X>clip[0], X<clip[1])] # won't work for two columns.\n",
      "/anaconda2/lib/python2.7/site-packages/statsmodels/nonparametric/kde.py:454: RuntimeWarning: invalid value encountered in less\n",
      "  X = X[np.logical_and(X>clip[0], X<clip[1])] # won't work for two columns.\n"
     ]
    },
    {
     "data": {
      "image/png": "[encoded data removed]",
      "text/plain": [
       "<matplotlib.figure.Figure at 0x1a1524a2d0>"
      ]
     },
     "metadata": {},
     "output_type": "display_data"
    }
   ],
   "source": [
    "sns.distplot(Shots.loc[Shots['result'] == 'made']['shot_distance'], kde = True, hist = False)\n",
    "sns.distplot(Shots.loc[Shots['result'] == 'missed']['shot_distance'], kde = True, hist = False)\n",
    "plt.xlim(0,45)\n",
    "plt.show()\n",
    "\n"
   ]
  },
  {
   "cell_type": "code",
   "execution_count": 192,
   "metadata": {},
   "outputs": [
    {
     "data": {
      "image/png": "[encoded data removed]",
      "text/plain": [
       "<matplotlib.figure.Figure at 0x1a15255150>"
      ]
     },
     "metadata": {},
     "output_type": "display_data"
    }
   ],
   "source": [
    "sns.distplot(Shots.loc[Shots['team'] == 'LAC']['shot_distance'], kde = True, hist = False)\n",
    "sns.distplot(Shots.loc[Shots['team'] == 'POR']['shot_distance'], kde = True, hist = False)\n",
    "plt.xlim(0,45)\n",
    "plt.show()"
   ]
  },
  {
   "cell_type": "code",
   "execution_count": 191,
   "metadata": {},
   "outputs": [
    {
     "data": {
      "text/plain": [
       "Index([u'game_id', u'data_set', u'date', u'a1', u'a2', u'a3', u'a4', u'a5',\n",
       "       u'h1', u'h2', u'h3', u'h4', u'h5', u'period', u'away_score',\n",
       "       u'home_score', u'remaining_time', u'elapsed', u'play_length',\n",
       "       u'play_id', u'team', u'event_type', u'assist', u'away', u'home',\n",
       "       u'block', u'entered', u'left', u'num', u'opponent', u'outof', u'player',\n",
       "       u'points', u'possession', u'reason', u'result', u'steal', u'type',\n",
       "       u'shot_distance', u'original_x', u'original_y', u'converted_x',\n",
       "       u'converted_y', u'description', u'PLAY_TIME'],\n",
       "      dtype='object')"
      ]
     },
     "execution_count": 191,
     "metadata": {},
     "output_type": "execute_result"
    }
   ],
   "source": []
  },
  {
   "cell_type": "code",
   "execution_count": 194,
   "metadata": {},
   "outputs": [
    {
     "name": "stderr",
     "output_type": "stream",
     "text": [
      "/anaconda2/lib/python2.7/site-packages/IPython/core/interactiveshell.py:2718: DtypeWarning: Columns (18,19) have mixed types. Specify dtype option on import or set low_memory=False.\n",
      "  interactivity=interactivity, compiler=compiler, result=result)\n"
     ]
    }
   ],
   "source": []
  },
  {
   "cell_type": "code",
   "execution_count": 197,
   "metadata": {},
   "outputs": [
    {
     "data": {
      "text/plain": [
       "Index([u'company_name', u'primary_role', u'permalink', u'domain',\n",
       "       u'homepage_url', u'country_code', u'state_code', u'region', u'city',\n",
       "       u'zipcode', u'address', u'status', u'short_description',\n",
       "       u'category_list', u'category_group_list', u'funding_rounds',\n",
       "       u'funding_total_usd', u'founded_on', u'first_funding_on',\n",
       "       u'last_funding_on', u'closed_on', u'employee_count', u'email', u'phone',\n",
       "       u'facebook_url', u'linkedin_url', u'cb_url', u'logo_url',\n",
       "       u'profile_image_url', u'twitter_url', u'alias', u'uuid', u'created_at',\n",
       "       u'updated_at'],\n",
       "      dtype='object')"
      ]
     },
     "execution_count": 197,
     "metadata": {},
     "output_type": "execute_result"
    }
   ],
   "source": []
  },
  {
   "cell_type": "raw",
   "metadata": {},
   "source": []
  },
  {
   "cell_type": "code",
   "execution_count": null,
   "metadata": {
    "collapsed": true
   },
   "outputs": [],
   "source": []
  },
  {
   "cell_type": "code",
   "execution_count": null,
   "metadata": {
    "collapsed": true
   },
   "outputs": [],
   "source": []
  }
 ],
 "metadata": {
  "kernelspec": {
   "display_name": "Python 3",
   "language": "python",
   "name": "python3"
  },
  "language_info": {
   "codemirror_mode": {
    "name": "ipython",
    "version": 3
   },
   "file_extension": ".py",
   "mimetype": "text/x-python",
   "name": "python",
   "nbconvert_exporter": "python",
   "pygments_lexer": "ipython3",
   "version": "3.7.1"
  }
 },
 "nbformat": 4,
 "nbformat_minor": 2
}
