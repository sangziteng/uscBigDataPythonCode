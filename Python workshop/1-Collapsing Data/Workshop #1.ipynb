{
 "cells": [
  {
   "cell_type": "code",
   "execution_count": 1,
   "metadata": {},
   "outputs": [],
   "source": [
    "var = 'one'"
   ]
  },
  {
   "cell_type": "code",
   "execution_count": 2,
   "metadata": {},
   "outputs": [
    {
     "data": {
      "text/plain": [
       "'one'"
      ]
     },
     "execution_count": 2,
     "metadata": {},
     "output_type": "execute_result"
    }
   ],
   "source": [
    "var"
   ]
  },
  {
   "cell_type": "markdown",
   "metadata": {},
   "source": [
    "123123lfsjfdksd\n"
   ]
  },
  {
   "cell_type": "raw",
   "metadata": {},
   "source": [
    "skdjfksdjfakfj;kfj"
   ]
  },
  {
   "cell_type": "code",
   "execution_count": 3,
   "metadata": {},
   "outputs": [
    {
     "data": {
      "text/plain": [
       "'dklffjs'"
      ]
     },
     "execution_count": 3,
     "metadata": {},
     "output_type": "execute_result"
    }
   ],
   "source": [
    "'dklffjs'"
   ]
  },
  {
   "cell_type": "markdown",
   "metadata": {},
   "source": [
    "# test test???~~~llolool"
   ]
  },
  {
   "cell_type": "code",
   "execution_count": 4,
   "metadata": {},
   "outputs": [],
   "source": [
    "varlist = ['a','b','c']"
   ]
  },
  {
   "cell_type": "code",
   "execution_count": 5,
   "metadata": {},
   "outputs": [
    {
     "data": {
      "text/plain": [
       "['a', 'b', 'c']"
      ]
     },
     "execution_count": 5,
     "metadata": {},
     "output_type": "execute_result"
    }
   ],
   "source": [
    "varlist"
   ]
  },
  {
   "cell_type": "code",
   "execution_count": 6,
   "metadata": {},
   "outputs": [
    {
     "data": {
      "text/plain": [
       "list"
      ]
     },
     "execution_count": 6,
     "metadata": {},
     "output_type": "execute_result"
    }
   ],
   "source": [
    "type(varlist\n",
    ")"
   ]
  },
  {
   "cell_type": "code",
   "execution_count": 8,
   "metadata": {},
   "outputs": [
    {
     "data": {
      "text/plain": [
       "0"
      ]
     },
     "execution_count": 8,
     "metadata": {},
     "output_type": "execute_result"
    }
   ],
   "source": [
    "varlist.count(1)\n"
   ]
  },
  {
   "cell_type": "code",
   "execution_count": 9,
   "metadata": {},
   "outputs": [
    {
     "ename": "NameError",
     "evalue": "name 'DataFrame' is not defined",
     "output_type": "error",
     "traceback": [
      "\u001b[0;31m---------------------------------------------------------------------------\u001b[0m",
      "\u001b[0;31mNameError\u001b[0m                                 Traceback (most recent call last)",
      "\u001b[0;32m<ipython-input-9-be86a8bcaa5e>\u001b[0m in \u001b[0;36m<module>\u001b[0;34m\u001b[0m\n\u001b[0;32m----> 1\u001b[0;31m \u001b[0mDataFrame\u001b[0m\u001b[0;34m\u001b[0m\u001b[0;34m\u001b[0m\u001b[0m\n\u001b[0m",
      "\u001b[0;31mNameError\u001b[0m: name 'DataFrame' is not defined"
     ]
    }
   ],
   "source": [
    "DataFrame\n"
   ]
  },
  {
   "cell_type": "code",
   "execution_count": 10,
   "metadata": {},
   "outputs": [
    {
     "name": "stdout",
     "output_type": "stream",
     "text": [
      "\n",
      "Welcome to Python 3.7's help utility!\n",
      "\n",
      "If this is your first time using Python, you should definitely check out\n",
      "the tutorial on the Internet at https://docs.python.org/3.7/tutorial/.\n",
      "\n",
      "Enter the name of any module, keyword, or topic to get help on writing\n",
      "Python programs and using Python modules.  To quit this help utility and\n",
      "return to the interpreter, just type \"quit\".\n",
      "\n",
      "To get a list of available modules, keywords, symbols, or topics, type\n",
      "\"modules\", \"keywords\", \"symbols\", or \"topics\".  Each module also comes\n",
      "with a one-line summary of what it does; to list the modules whose name\n",
      "or summary contain a given string such as \"spam\", type \"modules spam\".\n",
      "\n",
      "help> dataframe\n",
      "No Python documentation found for 'dataframe'.\n",
      "Use help() to get the interactive help utility.\n",
      "Use help(str) for help on the str class.\n",
      "\n",
      "help> DataFrame\n",
      "No Python documentation found for 'DataFrame'.\n",
      "Use help() to get the interactive help utility.\n",
      "Use help(str) for help on the str class.\n",
      "\n",
      "\n",
      "You are now leaving help and returning to the Python interpreter.\n",
      "If you want to ask for help on a particular object directly from the\n",
      "interpreter, you can type \"help(object)\".  Executing \"help('string')\"\n",
      "has the same effect as typing a particular string at the help> prompt.\n"
     ]
    }
   ],
   "source": [
    "help()"
   ]
  },
  {
   "cell_type": "code",
   "execution_count": 11,
   "metadata": {},
   "outputs": [],
   "source": [
    "import pandas as pd"
   ]
  },
  {
   "cell_type": "code",
   "execution_count": 12,
   "metadata": {},
   "outputs": [
    {
     "name": "stdout",
     "output_type": "stream",
     "text": [
      "\n",
      "Welcome to Python 3.7's help utility!\n",
      "\n",
      "If this is your first time using Python, you should definitely check out\n",
      "the tutorial on the Internet at https://docs.python.org/3.7/tutorial/.\n",
      "\n",
      "Enter the name of any module, keyword, or topic to get help on writing\n",
      "Python programs and using Python modules.  To quit this help utility and\n",
      "return to the interpreter, just type \"quit\".\n",
      "\n",
      "To get a list of available modules, keywords, symbols, or topics, type\n",
      "\"modules\", \"keywords\", \"symbols\", or \"topics\".  Each module also comes\n",
      "with a one-line summary of what it does; to list the modules whose name\n",
      "or summary contain a given string such as \"spam\", type \"modules spam\".\n",
      "\n",
      "\n",
      "You are now leaving help and returning to the Python interpreter.\n",
      "If you want to ask for help on a particular object directly from the\n",
      "interpreter, you can type \"help(object)\".  Executing \"help('string')\"\n",
      "has the same effect as typing a particular string at the help> prompt.\n",
      "help> dataframe\n"
     ]
    }
   ],
   "source": [
    "help()"
   ]
  },
  {
   "cell_type": "code",
   "execution_count": 13,
   "metadata": {},
   "outputs": [
    {
     "name": "stdout",
     "output_type": "stream",
     "text": [
      "No Python documentation found for 'DataFrame'.\n",
      "Use help() to get the interactive help utility.\n",
      "Use help(str) for help on the str class.\n",
      "\n"
     ]
    }
   ],
   "source": [
    "help('DataFrame')"
   ]
  },
  {
   "cell_type": "code",
   "execution_count": 14,
   "metadata": {},
   "outputs": [
    {
     "name": "stdout",
     "output_type": "stream",
     "text": [
      "No Python documentation found for 'pd'.\n",
      "Use help() to get the interactive help utility.\n",
      "Use help(str) for help on the str class.\n",
      "\n"
     ]
    }
   ],
   "source": [
    "help('pd')"
   ]
  },
  {
   "cell_type": "code",
   "execution_count": 15,
   "metadata": {},
   "outputs": [
    {
     "name": "stdout",
     "output_type": "stream",
     "text": [
      "Help on package pandas:\n",
      "\n",
      "NAME\n",
      "    pandas\n",
      "\n",
      "DESCRIPTION\n",
      "    pandas - a powerful data analysis and manipulation library for Python\n",
      "    =====================================================================\n",
      "    \n",
      "    **pandas** is a Python package providing fast, flexible, and expressive data\n",
      "    structures designed to make working with \"relational\" or \"labeled\" data both\n",
      "    easy and intuitive. It aims to be the fundamental high-level building block for\n",
      "    doing practical, **real world** data analysis in Python. Additionally, it has\n",
      "    the broader goal of becoming **the most powerful and flexible open source data\n",
      "    analysis / manipulation tool available in any language**. It is already well on\n",
      "    its way toward this goal.\n",
      "    \n",
      "    Main Features\n",
      "    -------------\n",
      "    Here are just a few of the things that pandas does well:\n",
      "    \n",
      "      - Easy handling of missing data in floating point as well as non-floating\n",
      "        point data.\n",
      "      - Size mutability: columns can be inserted and deleted from DataFrame and\n",
      "        higher dimensional objects\n",
      "      - Automatic and explicit data alignment: objects can be explicitly aligned\n",
      "        to a set of labels, or the user can simply ignore the labels and let\n",
      "        `Series`, `DataFrame`, etc. automatically align the data for you in\n",
      "        computations.\n",
      "      - Powerful, flexible group by functionality to perform split-apply-combine\n",
      "        operations on data sets, for both aggregating and transforming data.\n",
      "      - Make it easy to convert ragged, differently-indexed data in other Python\n",
      "        and NumPy data structures into DataFrame objects.\n",
      "      - Intelligent label-based slicing, fancy indexing, and subsetting of large\n",
      "        data sets.\n",
      "      - Intuitive merging and joining data sets.\n",
      "      - Flexible reshaping and pivoting of data sets.\n",
      "      - Hierarchical labeling of axes (possible to have multiple labels per tick).\n",
      "      - Robust IO tools for loading data from flat files (CSV and delimited),\n",
      "        Excel files, databases, and saving/loading data from the ultrafast HDF5\n",
      "        format.\n",
      "      - Time series-specific functionality: date range generation and frequency\n",
      "        conversion, moving window statistics, moving window linear regressions,\n",
      "        date shifting and lagging, etc.\n",
      "\n",
      "PACKAGE CONTENTS\n",
      "    _libs (package)\n",
      "    _version\n",
      "    api (package)\n",
      "    compat (package)\n",
      "    computation (package)\n",
      "    conftest\n",
      "    core (package)\n",
      "    errors (package)\n",
      "    formats (package)\n",
      "    io (package)\n",
      "    json\n",
      "    lib\n",
      "    parser\n",
      "    plotting (package)\n",
      "    testing\n",
      "    tests (package)\n",
      "    tools (package)\n",
      "    tseries (package)\n",
      "    tslib\n",
      "    types (package)\n",
      "    util (package)\n",
      "\n",
      "SUBMODULES\n",
      "    _hashtable\n",
      "    _lib\n",
      "    _tslib\n",
      "    offsets\n",
      "\n",
      "DATA\n",
      "    IndexSlice = <pandas.core.indexing._IndexSlice object>\n",
      "    NaT = NaT\n",
      "    __docformat__ = 'restructuredtext'\n",
      "    datetools = <module 'pandas.core.datetools' from '/Users/xia...ython3....\n",
      "    describe_option = <pandas.core.config.CallableDynamicDoc object>\n",
      "    get_option = <pandas.core.config.CallableDynamicDoc object>\n",
      "    json = <module 'pandas.json' from '/Users/xiaojuezhang/...nda3/lib/pyt...\n",
      "    lib = <module 'pandas.lib' from '/Users/xiaojuezhang/anaconda3/lib/pyt...\n",
      "    options = <pandas.core.config.DictWrapper object>\n",
      "    parser = <module 'pandas.parser' from '/Users/xiaojuezhan...a3/lib/pyt...\n",
      "    plot_params = {'xaxis.compat': False}\n",
      "    reset_option = <pandas.core.config.CallableDynamicDoc object>\n",
      "    set_option = <pandas.core.config.CallableDynamicDoc object>\n",
      "    tslib = <module 'pandas.tslib' from '/Users/xiaojuezhang...da3/lib/pyt...\n",
      "\n",
      "VERSION\n",
      "    0.23.4\n",
      "\n",
      "FILE\n",
      "    /Users/xiaojuezhang/anaconda3/lib/python3.7/site-packages/pandas/__init__.py\n",
      "\n",
      "\n"
     ]
    }
   ],
   "source": [
    "help(pd)"
   ]
  },
  {
   "cell_type": "code",
   "execution_count": 16,
   "metadata": {},
   "outputs": [
    {
     "ename": "NameError",
     "evalue": "name 'DataFrame' is not defined",
     "output_type": "error",
     "traceback": [
      "\u001b[0;31m---------------------------------------------------------------------------\u001b[0m",
      "\u001b[0;31mNameError\u001b[0m                                 Traceback (most recent call last)",
      "\u001b[0;32m<ipython-input-16-0546684743c2>\u001b[0m in \u001b[0;36m<module>\u001b[0;34m\u001b[0m\n\u001b[0;32m----> 1\u001b[0;31m \u001b[0mhelp\u001b[0m\u001b[0;34m(\u001b[0m\u001b[0mDataFrame\u001b[0m\u001b[0;34m)\u001b[0m\u001b[0;34m\u001b[0m\u001b[0;34m\u001b[0m\u001b[0m\n\u001b[0m",
      "\u001b[0;31mNameError\u001b[0m: name 'DataFrame' is not defined"
     ]
    }
   ],
   "source": [
    "help(DataFrame)"
   ]
  },
  {
   "cell_type": "code",
   "execution_count": 17,
   "metadata": {},
   "outputs": [
    {
     "ename": "SyntaxError",
     "evalue": "invalid syntax (<ipython-input-17-2ab55bfa52d0>, line 1)",
     "output_type": "error",
     "traceback": [
      "\u001b[0;36m  File \u001b[0;32m\"<ipython-input-17-2ab55bfa52d0>\"\u001b[0;36m, line \u001b[0;32m1\u001b[0m\n\u001b[0;31m    DataFrame df\u001b[0m\n\u001b[0m               ^\u001b[0m\n\u001b[0;31mSyntaxError\u001b[0m\u001b[0;31m:\u001b[0m invalid syntax\n"
     ]
    }
   ],
   "source": [
    "DataFrame df"
   ]
  },
  {
   "cell_type": "code",
   "execution_count": 18,
   "metadata": {},
   "outputs": [
    {
     "ename": "NameError",
     "evalue": "name 'panda' is not defined",
     "output_type": "error",
     "traceback": [
      "\u001b[0;31m---------------------------------------------------------------------------\u001b[0m",
      "\u001b[0;31mNameError\u001b[0m                                 Traceback (most recent call last)",
      "\u001b[0;32m<ipython-input-18-eaf1af540c6a>\u001b[0m in \u001b[0;36m<module>\u001b[0;34m\u001b[0m\n\u001b[0;32m----> 1\u001b[0;31m \u001b[0mpanda\u001b[0m\u001b[0;34m.\u001b[0m\u001b[0mDataFrame\u001b[0m\u001b[0;34m(\u001b[0m\u001b[0;34m)\u001b[0m\u001b[0;34m\u001b[0m\u001b[0;34m\u001b[0m\u001b[0m\n\u001b[0m",
      "\u001b[0;31mNameError\u001b[0m: name 'panda' is not defined"
     ]
    }
   ],
   "source": [
    "panda.DataFrame()\n"
   ]
  },
  {
   "cell_type": "code",
   "execution_count": 19,
   "metadata": {},
   "outputs": [
    {
     "data": {
      "text/html": [
       "<div>\n",
       "<style scoped>\n",
       "    .dataframe tbody tr th:only-of-type {\n",
       "        vertical-align: middle;\n",
       "    }\n",
       "\n",
       "    .dataframe tbody tr th {\n",
       "        vertical-align: top;\n",
       "    }\n",
       "\n",
       "    .dataframe thead th {\n",
       "        text-align: right;\n",
       "    }\n",
       "</style>\n",
       "<table border=\"1\" class=\"dataframe\">\n",
       "  <thead>\n",
       "    <tr style=\"text-align: right;\">\n",
       "      <th></th>\n",
       "    </tr>\n",
       "  </thead>\n",
       "  <tbody>\n",
       "  </tbody>\n",
       "</table>\n",
       "</div>"
      ],
      "text/plain": [
       "Empty DataFrame\n",
       "Columns: []\n",
       "Index: []"
      ]
     },
     "execution_count": 19,
     "metadata": {},
     "output_type": "execute_result"
    }
   ],
   "source": [
    "pd.DataFrame()"
   ]
  },
  {
   "cell_type": "code",
   "execution_count": 20,
   "metadata": {},
   "outputs": [],
   "source": [
    "df = pd.DataFrame()"
   ]
  },
  {
   "cell_type": "code",
   "execution_count": 21,
   "metadata": {},
   "outputs": [
    {
     "data": {
      "text/html": [
       "<div>\n",
       "<style scoped>\n",
       "    .dataframe tbody tr th:only-of-type {\n",
       "        vertical-align: middle;\n",
       "    }\n",
       "\n",
       "    .dataframe tbody tr th {\n",
       "        vertical-align: top;\n",
       "    }\n",
       "\n",
       "    .dataframe thead th {\n",
       "        text-align: right;\n",
       "    }\n",
       "</style>\n",
       "<table border=\"1\" class=\"dataframe\">\n",
       "  <thead>\n",
       "    <tr style=\"text-align: right;\">\n",
       "      <th></th>\n",
       "    </tr>\n",
       "  </thead>\n",
       "  <tbody>\n",
       "  </tbody>\n",
       "</table>\n",
       "</div>"
      ],
      "text/plain": [
       "Empty DataFrame\n",
       "Columns: []\n",
       "Index: []"
      ]
     },
     "execution_count": 21,
     "metadata": {},
     "output_type": "execute_result"
    }
   ],
   "source": [
    "df"
   ]
  },
  {
   "cell_type": "code",
   "execution_count": 22,
   "metadata": {},
   "outputs": [],
   "source": [
    "# blahblahblah"
   ]
  },
  {
   "cell_type": "markdown",
   "metadata": {},
   "source": [
    "### hello world?!"
   ]
  },
  {
   "cell_type": "code",
   "execution_count": 27,
   "metadata": {},
   "outputs": [],
   "source": [
    "# Declare packages\n",
    "import pandas as pd\n",
    "import numpy as np\n",
    "import os #operational system\n"
   ]
  },
  {
   "cell_type": "code",
   "execution_count": 28,
   "metadata": {},
   "outputs": [
    {
     "name": "stdout",
     "output_type": "stream",
     "text": [
      "\u001b[1m\u001b[32mLAPD Data\u001b[m\u001b[m/         \u001b[1m\u001b[32mNBA Data\u001b[m\u001b[m/          Workshop #1.ipynb\r\n"
     ]
    }
   ],
   "source": [
    "ls"
   ]
  },
  {
   "cell_type": "code",
   "execution_count": 29,
   "metadata": {},
   "outputs": [
    {
     "data": {
      "text/plain": [
       "<function dir>"
      ]
     },
     "execution_count": 29,
     "metadata": {},
     "output_type": "execute_result"
    }
   ],
   "source": [
    "dir"
   ]
  },
  {
   "cell_type": "code",
   "execution_count": 30,
   "metadata": {},
   "outputs": [
    {
     "name": "stdout",
     "output_type": "stream",
     "text": [
      "total 56\r\n",
      "drwxr-xr-x   7 xiaojuezhang  staff    224 Jan 14 18:53 \u001b[1m\u001b[32m.\u001b[m\u001b[m/\r\n",
      "drwxr-xr-x   5 xiaojuezhang  staff    160 Jan 13 14:13 \u001b[1m\u001b[32m..\u001b[m\u001b[m/\r\n",
      "-rw-r--r--@  1 xiaojuezhang  staff   6148 Jan 13 14:31 .DS_Store\r\n",
      "drwxr-xr-x   3 xiaojuezhang  staff     96 Jan 14 18:38 \u001b[1m\u001b[32m.ipynb_checkpoints\u001b[m\u001b[m/\r\n",
      "drwxr-xr-x@  8 xiaojuezhang  staff    256 Jan 13 14:31 \u001b[1m\u001b[32mLAPD Data\u001b[m\u001b[m/\r\n",
      "drwxr-xr-x@ 11 xiaojuezhang  staff    352 Jan 13 14:13 \u001b[1m\u001b[32mNBA Data\u001b[m\u001b[m/\r\n",
      "-rw-r--r--   1 xiaojuezhang  staff  18359 Jan 14 18:53 Workshop #1.ipynb\r\n"
     ]
    }
   ],
   "source": [
    "ls -all"
   ]
  },
  {
   "cell_type": "code",
   "execution_count": 31,
   "metadata": {},
   "outputs": [
    {
     "name": "stdout",
     "output_type": "stream",
     "text": [
      "\u001b[1m\u001b[32m.\u001b[m\u001b[m/                  \u001b[1m\u001b[32m.ipynb_checkpoints\u001b[m\u001b[m/ \u001b[1m\u001b[32mLAPD Data\u001b[m\u001b[m/          \u001b[1m\u001b[32mNBA Data\u001b[m\u001b[m/\r\n",
      "Workshop #1.ipynb   .DS_Store           \u001b[1m\u001b[32m..\u001b[m\u001b[m/\r\n"
     ]
    }
   ],
   "source": [
    "ls -path"
   ]
  },
  {
   "cell_type": "code",
   "execution_count": 32,
   "metadata": {},
   "outputs": [
    {
     "name": "stdout",
     "output_type": "stream",
     "text": [
      "ls: illegal option -- -\r\n",
      "usage: ls [-ABCFGHLOPRSTUWabcdefghiklmnopqrstuwx1] [file ...]\r\n"
     ]
    }
   ],
   "source": [
    "ls --help"
   ]
  },
  {
   "cell_type": "code",
   "execution_count": 33,
   "metadata": {},
   "outputs": [
    {
     "name": "stdout",
     "output_type": "stream",
     "text": [
      "total 40\r\n",
      "drwxr-xr-x@  8 xiaojuezhang  staff   256B Jan 13 14:31 \u001b[1m\u001b[32mLAPD Data\u001b[m\u001b[m/\r\n",
      "drwxr-xr-x@ 11 xiaojuezhang  staff   352B Jan 13 14:13 \u001b[1m\u001b[32mNBA Data\u001b[m\u001b[m/\r\n",
      "-rw-r--r--   1 xiaojuezhang  staff    18K Jan 14 18:53 Workshop #1.ipynb\r\n"
     ]
    }
   ],
   "source": [
    "ls -help"
   ]
  },
  {
   "cell_type": "code",
   "execution_count": 34,
   "metadata": {},
   "outputs": [
    {
     "ename": "SyntaxError",
     "evalue": "invalid syntax (<ipython-input-34-995bd7f665a1>, line 1)",
     "output_type": "error",
     "traceback": [
      "\u001b[0;36m  File \u001b[0;32m\"<ipython-input-34-995bd7f665a1>\"\u001b[0;36m, line \u001b[0;32m1\u001b[0m\n\u001b[0;31m    os.chdir(..)\u001b[0m\n\u001b[0m             ^\u001b[0m\n\u001b[0;31mSyntaxError\u001b[0m\u001b[0;31m:\u001b[0m invalid syntax\n"
     ]
    }
   ],
   "source": [
    "os.chdir(..)"
   ]
  },
  {
   "cell_type": "code",
   "execution_count": 35,
   "metadata": {},
   "outputs": [
    {
     "name": "stdout",
     "output_type": "stream",
     "text": [
      "Workshop #1.ipynb\r\n",
      "\r\n",
      "LAPD Data:\r\n",
      "\u001b[31m7z1806.exe\u001b[m\u001b[m*                           \u001b[31mMO_CODES_Numerical_20180627.pdf\u001b[m\u001b[m*\r\n",
      "\u001b[31mLAPD Data Explore.ipynb\u001b[m\u001b[m*              \u001b[31marrest-data-from-2010-to-present.csv\u001b[m\u001b[m*\r\n",
      "\u001b[31mLAPD Data Explore.py\u001b[m\u001b[m*                 \u001b[31mcrime-data-from-2010-to-present.csv\u001b[m\u001b[m*\r\n",
      "\r\n",
      "NBA Data:\r\n",
      "\u001b[31mNBA Data Exploration.ipynb\u001b[m\u001b[m*          \u001b[31m[2019-01-01]-0021800553-PHI@LAC.csv\u001b[m\u001b[m*\r\n",
      "\u001b[31m[2018-12-23]-0021800494-LAC@GSW.csv\u001b[m\u001b[m* \u001b[31m[2019-01-04]-0021800573-LAC@PHX.csv\u001b[m\u001b[m*\r\n",
      "\u001b[31m[2018-12-26]-0021800511-SAC@LAC.csv\u001b[m\u001b[m* \u001b[31m[2019-01-06]-0021800586-ORL@LAC.csv\u001b[m\u001b[m*\r\n",
      "\u001b[31m[2018-12-28]-0021800526-LAC@LAL.csv\u001b[m\u001b[m* \u001b[31m[2019-01-08]-0021800606-CHA@LAC.csv\u001b[m\u001b[m*\r\n",
      "\u001b[31m[2018-12-29]-0021800535-SAS@LAC.csv\u001b[m\u001b[m*\r\n"
     ]
    }
   ],
   "source": [
    "ls *"
   ]
  },
  {
   "cell_type": "code",
   "execution_count": 41,
   "metadata": {},
   "outputs": [],
   "source": [
    "os.chdir('/users/xiaojuezhang/Documents/00-personal/USC/2019Spring/DSO599-ReadyForBigData/Python workshop/1-Collapsing Data/NBA Data')"
   ]
  },
  {
   "cell_type": "code",
   "execution_count": 42,
   "metadata": {},
   "outputs": [
    {
     "name": "stdout",
     "output_type": "stream",
     "text": [
      "\u001b[31mNBA Data Exploration.ipynb\u001b[m\u001b[m*          \u001b[31m[2019-01-01]-0021800553-PHI@LAC.csv\u001b[m\u001b[m*\r\n",
      "\u001b[31m[2018-12-23]-0021800494-LAC@GSW.csv\u001b[m\u001b[m* \u001b[31m[2019-01-04]-0021800573-LAC@PHX.csv\u001b[m\u001b[m*\r\n",
      "\u001b[31m[2018-12-26]-0021800511-SAC@LAC.csv\u001b[m\u001b[m* \u001b[31m[2019-01-06]-0021800586-ORL@LAC.csv\u001b[m\u001b[m*\r\n",
      "\u001b[31m[2018-12-28]-0021800526-LAC@LAL.csv\u001b[m\u001b[m* \u001b[31m[2019-01-08]-0021800606-CHA@LAC.csv\u001b[m\u001b[m*\r\n",
      "\u001b[31m[2018-12-29]-0021800535-SAS@LAC.csv\u001b[m\u001b[m*\r\n"
     ]
    }
   ],
   "source": [
    "ls"
   ]
  },
  {
   "cell_type": "code",
   "execution_count": 45,
   "metadata": {},
   "outputs": [
    {
     "name": "stdout",
     "output_type": "stream",
     "text": [
      "total 3040\r\n",
      "-rwxr-xr-x@ 1 xiaojuezhang  staff  139946 Jan 12 13:45 \u001b[31mNBA Data Exploration.ipynb\u001b[m\u001b[m*\r\n",
      "-rwxr-xr-x@ 1 xiaojuezhang  staff  173572 Dec 24 09:18 \u001b[31m[2018-12-23]-0021800494-LAC@GSW.csv\u001b[m\u001b[m*\r\n",
      "-rwxr-xr-x@ 1 xiaojuezhang  staff  175002 Dec 27 09:28 \u001b[31m[2018-12-26]-0021800511-SAC@LAC.csv\u001b[m\u001b[m*\r\n",
      "-rwxr-xr-x@ 1 xiaojuezhang  staff  180181 Dec 29 09:55 \u001b[31m[2018-12-28]-0021800526-LAC@LAL.csv\u001b[m\u001b[m*\r\n",
      "-rwxr-xr-x@ 1 xiaojuezhang  staff  172405 Dec 30 09:44 \u001b[31m[2018-12-29]-0021800535-SAS@LAC.csv\u001b[m\u001b[m*\r\n",
      "-rwxr-xr-x@ 1 xiaojuezhang  staff  189010 Jan  2 09:47 \u001b[31m[2019-01-01]-0021800553-PHI@LAC.csv\u001b[m\u001b[m*\r\n",
      "-rwxr-xr-x@ 1 xiaojuezhang  staff  165125 Jan  5 09:51 \u001b[31m[2019-01-04]-0021800573-LAC@PHX.csv\u001b[m\u001b[m*\r\n",
      "-rwxr-xr-x@ 1 xiaojuezhang  staff  168280 Jan  7 08:25 \u001b[31m[2019-01-06]-0021800586-ORL@LAC.csv\u001b[m\u001b[m*\r\n",
      "-rwxr-xr-x@ 1 xiaojuezhang  staff  171567 Jan  9 09:42 \u001b[31m[2019-01-08]-0021800606-CHA@LAC.csv\u001b[m\u001b[m*\r\n"
     ]
    }
   ],
   "source": [
    "ls -l"
   ]
  },
  {
   "cell_type": "code",
   "execution_count": 46,
   "metadata": {},
   "outputs": [
    {
     "name": "stdout",
     "output_type": "stream",
     "text": [
      "\u001b[1m\u001b[32m.\u001b[m\u001b[m/\r\n"
     ]
    }
   ],
   "source": [
    "ls -d"
   ]
  },
  {
   "cell_type": "code",
   "execution_count": 47,
   "metadata": {},
   "outputs": [
    {
     "name": "stdout",
     "output_type": "stream",
     "text": [
      "total 3040\r\n",
      "-rwxr-xr-x@ 1 xiaojuezhang  staff   137K Jan 12 13:45 \u001b[31mNBA Data Exploration.ipynb\u001b[m\u001b[m\r\n",
      "-rwxr-xr-x@ 1 xiaojuezhang  staff   170K Dec 24 09:18 \u001b[31m[2018-12-23]-0021800494-LAC@GSW.csv\u001b[m\u001b[m\r\n",
      "-rwxr-xr-x@ 1 xiaojuezhang  staff   171K Dec 27 09:28 \u001b[31m[2018-12-26]-0021800511-SAC@LAC.csv\u001b[m\u001b[m\r\n",
      "-rwxr-xr-x@ 1 xiaojuezhang  staff   176K Dec 29 09:55 \u001b[31m[2018-12-28]-0021800526-LAC@LAL.csv\u001b[m\u001b[m\r\n",
      "-rwxr-xr-x@ 1 xiaojuezhang  staff   168K Dec 30 09:44 \u001b[31m[2018-12-29]-0021800535-SAS@LAC.csv\u001b[m\u001b[m\r\n",
      "-rwxr-xr-x@ 1 xiaojuezhang  staff   185K Jan  2 09:47 \u001b[31m[2019-01-01]-0021800553-PHI@LAC.csv\u001b[m\u001b[m\r\n",
      "-rwxr-xr-x@ 1 xiaojuezhang  staff   161K Jan  5 09:51 \u001b[31m[2019-01-04]-0021800573-LAC@PHX.csv\u001b[m\u001b[m\r\n",
      "-rwxr-xr-x@ 1 xiaojuezhang  staff   164K Jan  7 08:25 \u001b[31m[2019-01-06]-0021800586-ORL@LAC.csv\u001b[m\u001b[m\r\n",
      "-rwxr-xr-x@ 1 xiaojuezhang  staff   168K Jan  9 09:42 \u001b[31m[2019-01-08]-0021800606-CHA@LAC.csv\u001b[m\u001b[m\r\n"
     ]
    }
   ],
   "source": [
    "ls -help"
   ]
  },
  {
   "cell_type": "code",
   "execution_count": 48,
   "metadata": {},
   "outputs": [
    {
     "name": "stdout",
     "output_type": "stream",
     "text": [
      "ls: illegal option -- -\r\n",
      "usage: ls [-ABCFGHLOPRSTUWabcdefghiklmnopqrstuwx1] [file ...]\r\n"
     ]
    }
   ],
   "source": [
    "ls --help"
   ]
  },
  {
   "cell_type": "code",
   "execution_count": 49,
   "metadata": {},
   "outputs": [
    {
     "name": "stdout",
     "output_type": "stream",
     "text": [
      "\u001b[1m\u001b[32m.\u001b[m\u001b[m/\r\n"
     ]
    }
   ],
   "source": [
    "ls -d"
   ]
  },
  {
   "cell_type": "code",
   "execution_count": 50,
   "metadata": {},
   "outputs": [],
   "source": [
    "data = pd.read_csv(\"./[2018-12-28]-0021800526-LAC@LAL.csv\")"
   ]
  },
  {
   "cell_type": "code",
   "execution_count": 53,
   "metadata": {},
   "outputs": [
    {
     "data": {
      "text/html": [
       "<div>\n",
       "<style scoped>\n",
       "    .dataframe tbody tr th:only-of-type {\n",
       "        vertical-align: middle;\n",
       "    }\n",
       "\n",
       "    .dataframe tbody tr th {\n",
       "        vertical-align: top;\n",
       "    }\n",
       "\n",
       "    .dataframe thead th {\n",
       "        text-align: right;\n",
       "    }\n",
       "</style>\n",
       "<table border=\"1\" class=\"dataframe\">\n",
       "  <thead>\n",
       "    <tr style=\"text-align: right;\">\n",
       "      <th></th>\n",
       "      <th>game_id</th>\n",
       "      <th>data_set</th>\n",
       "      <th>date</th>\n",
       "      <th>a1</th>\n",
       "      <th>a2</th>\n",
       "      <th>a3</th>\n",
       "      <th>a4</th>\n",
       "      <th>a5</th>\n",
       "      <th>h1</th>\n",
       "      <th>h2</th>\n",
       "      <th>...</th>\n",
       "      <th>reason</th>\n",
       "      <th>result</th>\n",
       "      <th>steal</th>\n",
       "      <th>type</th>\n",
       "      <th>shot_distance</th>\n",
       "      <th>original_x</th>\n",
       "      <th>original_y</th>\n",
       "      <th>converted_x</th>\n",
       "      <th>converted_y</th>\n",
       "      <th>description</th>\n",
       "    </tr>\n",
       "  </thead>\n",
       "  <tbody>\n",
       "    <tr>\n",
       "      <th>0</th>\n",
       "      <td>=\"0021800526\"</td>\n",
       "      <td>2018-2019 Regular Season</td>\n",
       "      <td>2018-12-28</td>\n",
       "      <td>Tobias Harris</td>\n",
       "      <td>Danilo Gallinari</td>\n",
       "      <td>Boban Marjanovic</td>\n",
       "      <td>Avery Bradley</td>\n",
       "      <td>Shai Gilgeous-Alexander</td>\n",
       "      <td>Brandon Ingram</td>\n",
       "      <td>Kyle Kuzma</td>\n",
       "      <td>...</td>\n",
       "      <td>NaN</td>\n",
       "      <td>NaN</td>\n",
       "      <td>NaN</td>\n",
       "      <td>start of period</td>\n",
       "      <td>NaN</td>\n",
       "      <td>NaN</td>\n",
       "      <td>NaN</td>\n",
       "      <td>NaN</td>\n",
       "      <td>NaN</td>\n",
       "      <td>NaN</td>\n",
       "    </tr>\n",
       "    <tr>\n",
       "      <th>1</th>\n",
       "      <td>=\"0021800526\"</td>\n",
       "      <td>2018-2019 Regular Season</td>\n",
       "      <td>2018-12-28</td>\n",
       "      <td>Tobias Harris</td>\n",
       "      <td>Danilo Gallinari</td>\n",
       "      <td>Boban Marjanovic</td>\n",
       "      <td>Avery Bradley</td>\n",
       "      <td>Shai Gilgeous-Alexander</td>\n",
       "      <td>Brandon Ingram</td>\n",
       "      <td>Kyle Kuzma</td>\n",
       "      <td>...</td>\n",
       "      <td>NaN</td>\n",
       "      <td>NaN</td>\n",
       "      <td>NaN</td>\n",
       "      <td>jump ball</td>\n",
       "      <td>NaN</td>\n",
       "      <td>NaN</td>\n",
       "      <td>NaN</td>\n",
       "      <td>NaN</td>\n",
       "      <td>NaN</td>\n",
       "      <td>Jump Ball Zubac vs. Marjanovic: Tip to Harris</td>\n",
       "    </tr>\n",
       "    <tr>\n",
       "      <th>2</th>\n",
       "      <td>=\"0021800526\"</td>\n",
       "      <td>2018-2019 Regular Season</td>\n",
       "      <td>2018-12-28</td>\n",
       "      <td>Tobias Harris</td>\n",
       "      <td>Danilo Gallinari</td>\n",
       "      <td>Boban Marjanovic</td>\n",
       "      <td>Avery Bradley</td>\n",
       "      <td>Shai Gilgeous-Alexander</td>\n",
       "      <td>Brandon Ingram</td>\n",
       "      <td>Kyle Kuzma</td>\n",
       "      <td>...</td>\n",
       "      <td>bad pass</td>\n",
       "      <td>NaN</td>\n",
       "      <td>Ivica Zubac</td>\n",
       "      <td>bad pass</td>\n",
       "      <td>NaN</td>\n",
       "      <td>NaN</td>\n",
       "      <td>NaN</td>\n",
       "      <td>NaN</td>\n",
       "      <td>NaN</td>\n",
       "      <td>Bradley Bad Pass Turnover (P1.T1), Zubac STEAL...</td>\n",
       "    </tr>\n",
       "    <tr>\n",
       "      <th>3</th>\n",
       "      <td>=\"0021800526\"</td>\n",
       "      <td>2018-2019 Regular Season</td>\n",
       "      <td>2018-12-28</td>\n",
       "      <td>Tobias Harris</td>\n",
       "      <td>Danilo Gallinari</td>\n",
       "      <td>Boban Marjanovic</td>\n",
       "      <td>Avery Bradley</td>\n",
       "      <td>Shai Gilgeous-Alexander</td>\n",
       "      <td>Brandon Ingram</td>\n",
       "      <td>Kyle Kuzma</td>\n",
       "      <td>...</td>\n",
       "      <td>NaN</td>\n",
       "      <td>missed</td>\n",
       "      <td>NaN</td>\n",
       "      <td>Hook Shot</td>\n",
       "      <td>1.0</td>\n",
       "      <td>-10.0</td>\n",
       "      <td>10.0</td>\n",
       "      <td>24.0</td>\n",
       "      <td>88.0</td>\n",
       "      <td>MISS Zubac 1' Hook Shot</td>\n",
       "    </tr>\n",
       "    <tr>\n",
       "      <th>4</th>\n",
       "      <td>=\"0021800526\"</td>\n",
       "      <td>2018-2019 Regular Season</td>\n",
       "      <td>2018-12-28</td>\n",
       "      <td>Tobias Harris</td>\n",
       "      <td>Danilo Gallinari</td>\n",
       "      <td>Boban Marjanovic</td>\n",
       "      <td>Avery Bradley</td>\n",
       "      <td>Shai Gilgeous-Alexander</td>\n",
       "      <td>Brandon Ingram</td>\n",
       "      <td>Kyle Kuzma</td>\n",
       "      <td>...</td>\n",
       "      <td>NaN</td>\n",
       "      <td>NaN</td>\n",
       "      <td>NaN</td>\n",
       "      <td>rebound defensive</td>\n",
       "      <td>NaN</td>\n",
       "      <td>NaN</td>\n",
       "      <td>NaN</td>\n",
       "      <td>NaN</td>\n",
       "      <td>NaN</td>\n",
       "      <td>Bradley REBOUND (Off:0 Def:1)</td>\n",
       "    </tr>\n",
       "  </tbody>\n",
       "</table>\n",
       "<p>5 rows × 44 columns</p>\n",
       "</div>"
      ],
      "text/plain": [
       "         game_id                  data_set        date             a1  \\\n",
       "0  =\"0021800526\"  2018-2019 Regular Season  2018-12-28  Tobias Harris   \n",
       "1  =\"0021800526\"  2018-2019 Regular Season  2018-12-28  Tobias Harris   \n",
       "2  =\"0021800526\"  2018-2019 Regular Season  2018-12-28  Tobias Harris   \n",
       "3  =\"0021800526\"  2018-2019 Regular Season  2018-12-28  Tobias Harris   \n",
       "4  =\"0021800526\"  2018-2019 Regular Season  2018-12-28  Tobias Harris   \n",
       "\n",
       "                 a2                a3             a4                       a5  \\\n",
       "0  Danilo Gallinari  Boban Marjanovic  Avery Bradley  Shai Gilgeous-Alexander   \n",
       "1  Danilo Gallinari  Boban Marjanovic  Avery Bradley  Shai Gilgeous-Alexander   \n",
       "2  Danilo Gallinari  Boban Marjanovic  Avery Bradley  Shai Gilgeous-Alexander   \n",
       "3  Danilo Gallinari  Boban Marjanovic  Avery Bradley  Shai Gilgeous-Alexander   \n",
       "4  Danilo Gallinari  Boban Marjanovic  Avery Bradley  Shai Gilgeous-Alexander   \n",
       "\n",
       "               h1          h2  \\\n",
       "0  Brandon Ingram  Kyle Kuzma   \n",
       "1  Brandon Ingram  Kyle Kuzma   \n",
       "2  Brandon Ingram  Kyle Kuzma   \n",
       "3  Brandon Ingram  Kyle Kuzma   \n",
       "4  Brandon Ingram  Kyle Kuzma   \n",
       "\n",
       "                         ...                             reason  result  \\\n",
       "0                        ...                                NaN     NaN   \n",
       "1                        ...                                NaN     NaN   \n",
       "2                        ...                          bad pass      NaN   \n",
       "3                        ...                                NaN  missed   \n",
       "4                        ...                                NaN     NaN   \n",
       "\n",
       "         steal               type  shot_distance  original_x original_y  \\\n",
       "0          NaN    start of period            NaN         NaN        NaN   \n",
       "1          NaN          jump ball            NaN         NaN        NaN   \n",
       "2  Ivica Zubac          bad pass             NaN         NaN        NaN   \n",
       "3          NaN          Hook Shot            1.0       -10.0       10.0   \n",
       "4          NaN  rebound defensive            NaN         NaN        NaN   \n",
       "\n",
       "  converted_x converted_y                                        description  \n",
       "0         NaN         NaN                                                NaN  \n",
       "1         NaN         NaN      Jump Ball Zubac vs. Marjanovic: Tip to Harris  \n",
       "2         NaN         NaN  Bradley Bad Pass Turnover (P1.T1), Zubac STEAL...  \n",
       "3        24.0        88.0                            MISS Zubac 1' Hook Shot  \n",
       "4         NaN         NaN                      Bradley REBOUND (Off:0 Def:1)  \n",
       "\n",
       "[5 rows x 44 columns]"
      ]
     },
     "execution_count": 53,
     "metadata": {},
     "output_type": "execute_result"
    }
   ],
   "source": [
    "data.head()\n"
   ]
  },
  {
   "cell_type": "code",
   "execution_count": 54,
   "metadata": {},
   "outputs": [
    {
     "data": {
      "text/plain": [
       "Index(['game_id', 'data_set', 'date', 'a1', 'a2', 'a3', 'a4', 'a5', 'h1', 'h2',\n",
       "       'h3', 'h4', 'h5', 'period', 'away_score', 'home_score',\n",
       "       'remaining_time', 'elapsed', 'play_length', 'play_id', 'team',\n",
       "       'event_type', 'assist', 'away', 'home', 'block', 'entered', 'left',\n",
       "       'num', 'opponent', 'outof', 'player', 'points', 'possession', 'reason',\n",
       "       'result', 'steal', 'type', 'shot_distance', 'original_x', 'original_y',\n",
       "       'converted_x', 'converted_y', 'description'],\n",
       "      dtype='object')"
      ]
     },
     "execution_count": 54,
     "metadata": {},
     "output_type": "execute_result"
    }
   ],
   "source": [
    "data.columns"
   ]
  },
  {
   "cell_type": "code",
   "execution_count": 56,
   "metadata": {},
   "outputs": [
    {
     "ename": "AttributeError",
     "evalue": "'DataFrame' object has no attribute 'row'",
     "output_type": "error",
     "traceback": [
      "\u001b[0;31m---------------------------------------------------------------------------\u001b[0m",
      "\u001b[0;31mAttributeError\u001b[0m                            Traceback (most recent call last)",
      "\u001b[0;32m<ipython-input-56-1cd947a6d704>\u001b[0m in \u001b[0;36m<module>\u001b[0;34m\u001b[0m\n\u001b[0;32m----> 1\u001b[0;31m \u001b[0mdata\u001b[0m\u001b[0;34m.\u001b[0m\u001b[0mrow\u001b[0m\u001b[0;34m.\u001b[0m\u001b[0mcount\u001b[0m\u001b[0;34m(\u001b[0m\u001b[0;34m)\u001b[0m\u001b[0;34m\u001b[0m\u001b[0;34m\u001b[0m\u001b[0m\n\u001b[0m",
      "\u001b[0;32m~/anaconda3/lib/python3.7/site-packages/pandas/core/generic.py\u001b[0m in \u001b[0;36m__getattr__\u001b[0;34m(self, name)\u001b[0m\n\u001b[1;32m   4374\u001b[0m             \u001b[0;32mif\u001b[0m \u001b[0mself\u001b[0m\u001b[0;34m.\u001b[0m\u001b[0m_info_axis\u001b[0m\u001b[0;34m.\u001b[0m\u001b[0m_can_hold_identifiers_and_holds_name\u001b[0m\u001b[0;34m(\u001b[0m\u001b[0mname\u001b[0m\u001b[0;34m)\u001b[0m\u001b[0;34m:\u001b[0m\u001b[0;34m\u001b[0m\u001b[0;34m\u001b[0m\u001b[0m\n\u001b[1;32m   4375\u001b[0m                 \u001b[0;32mreturn\u001b[0m \u001b[0mself\u001b[0m\u001b[0;34m[\u001b[0m\u001b[0mname\u001b[0m\u001b[0;34m]\u001b[0m\u001b[0;34m\u001b[0m\u001b[0;34m\u001b[0m\u001b[0m\n\u001b[0;32m-> 4376\u001b[0;31m             \u001b[0;32mreturn\u001b[0m \u001b[0mobject\u001b[0m\u001b[0;34m.\u001b[0m\u001b[0m__getattribute__\u001b[0m\u001b[0;34m(\u001b[0m\u001b[0mself\u001b[0m\u001b[0;34m,\u001b[0m \u001b[0mname\u001b[0m\u001b[0;34m)\u001b[0m\u001b[0;34m\u001b[0m\u001b[0;34m\u001b[0m\u001b[0m\n\u001b[0m\u001b[1;32m   4377\u001b[0m \u001b[0;34m\u001b[0m\u001b[0m\n\u001b[1;32m   4378\u001b[0m     \u001b[0;32mdef\u001b[0m \u001b[0m__setattr__\u001b[0m\u001b[0;34m(\u001b[0m\u001b[0mself\u001b[0m\u001b[0;34m,\u001b[0m \u001b[0mname\u001b[0m\u001b[0;34m,\u001b[0m \u001b[0mvalue\u001b[0m\u001b[0;34m)\u001b[0m\u001b[0;34m:\u001b[0m\u001b[0;34m\u001b[0m\u001b[0;34m\u001b[0m\u001b[0m\n",
      "\u001b[0;31mAttributeError\u001b[0m: 'DataFrame' object has no attribute 'row'"
     ]
    }
   ],
   "source": [
    "data.row.count()"
   ]
  },
  {
   "cell_type": "code",
   "execution_count": 57,
   "metadata": {
    "scrolled": true
   },
   "outputs": [
    {
     "data": {
      "text/html": [
       "<div>\n",
       "<style scoped>\n",
       "    .dataframe tbody tr th:only-of-type {\n",
       "        vertical-align: middle;\n",
       "    }\n",
       "\n",
       "    .dataframe tbody tr th {\n",
       "        vertical-align: top;\n",
       "    }\n",
       "\n",
       "    .dataframe thead th {\n",
       "        text-align: right;\n",
       "    }\n",
       "</style>\n",
       "<table border=\"1\" class=\"dataframe\">\n",
       "  <thead>\n",
       "    <tr style=\"text-align: right;\">\n",
       "      <th></th>\n",
       "      <th>period</th>\n",
       "      <th>away_score</th>\n",
       "      <th>home_score</th>\n",
       "      <th>play_id</th>\n",
       "      <th>num</th>\n",
       "      <th>outof</th>\n",
       "      <th>points</th>\n",
       "      <th>shot_distance</th>\n",
       "      <th>original_x</th>\n",
       "      <th>original_y</th>\n",
       "      <th>converted_x</th>\n",
       "      <th>converted_y</th>\n",
       "    </tr>\n",
       "  </thead>\n",
       "  <tbody>\n",
       "    <tr>\n",
       "      <th>count</th>\n",
       "      <td>514.000000</td>\n",
       "      <td>514.000000</td>\n",
       "      <td>514.000000</td>\n",
       "      <td>514.000000</td>\n",
       "      <td>69.000000</td>\n",
       "      <td>69.000000</td>\n",
       "      <td>247.000000</td>\n",
       "      <td>178.000000</td>\n",
       "      <td>178.000000</td>\n",
       "      <td>178.000000</td>\n",
       "      <td>178.000000</td>\n",
       "      <td>178.000000</td>\n",
       "    </tr>\n",
       "    <tr>\n",
       "      <th>mean</th>\n",
       "      <td>2.464981</td>\n",
       "      <td>53.714008</td>\n",
       "      <td>50.272374</td>\n",
       "      <td>355.871595</td>\n",
       "      <td>1.434783</td>\n",
       "      <td>1.869565</td>\n",
       "      <td>0.910931</td>\n",
       "      <td>12.814607</td>\n",
       "      <td>3.971910</td>\n",
       "      <td>90.606742</td>\n",
       "      <td>24.583708</td>\n",
       "      <td>46.131461</td>\n",
       "    </tr>\n",
       "    <tr>\n",
       "      <th>std</th>\n",
       "      <td>1.151209</td>\n",
       "      <td>34.991644</td>\n",
       "      <td>32.674300</td>\n",
       "      <td>210.103834</td>\n",
       "      <td>0.527989</td>\n",
       "      <td>0.450916</td>\n",
       "      <td>0.987813</td>\n",
       "      <td>9.997424</td>\n",
       "      <td>100.653987</td>\n",
       "      <td>89.346038</td>\n",
       "      <td>10.064622</td>\n",
       "      <td>34.208152</td>\n",
       "    </tr>\n",
       "    <tr>\n",
       "      <th>min</th>\n",
       "      <td>1.000000</td>\n",
       "      <td>0.000000</td>\n",
       "      <td>0.000000</td>\n",
       "      <td>2.000000</td>\n",
       "      <td>1.000000</td>\n",
       "      <td>1.000000</td>\n",
       "      <td>0.000000</td>\n",
       "      <td>0.000000</td>\n",
       "      <td>-239.000000</td>\n",
       "      <td>-19.000000</td>\n",
       "      <td>1.100000</td>\n",
       "      <td>4.400000</td>\n",
       "    </tr>\n",
       "    <tr>\n",
       "      <th>25%</th>\n",
       "      <td>1.000000</td>\n",
       "      <td>22.000000</td>\n",
       "      <td>18.000000</td>\n",
       "      <td>174.250000</td>\n",
       "      <td>1.000000</td>\n",
       "      <td>2.000000</td>\n",
       "      <td>0.000000</td>\n",
       "      <td>3.000000</td>\n",
       "      <td>-30.000000</td>\n",
       "      <td>16.250000</td>\n",
       "      <td>21.000000</td>\n",
       "      <td>10.500000</td>\n",
       "    </tr>\n",
       "    <tr>\n",
       "      <th>50%</th>\n",
       "      <td>2.000000</td>\n",
       "      <td>48.000000</td>\n",
       "      <td>52.500000</td>\n",
       "      <td>346.500000</td>\n",
       "      <td>1.000000</td>\n",
       "      <td>2.000000</td>\n",
       "      <td>1.000000</td>\n",
       "      <td>11.000000</td>\n",
       "      <td>1.000000</td>\n",
       "      <td>53.500000</td>\n",
       "      <td>25.000000</td>\n",
       "      <td>34.900000</td>\n",
       "    </tr>\n",
       "    <tr>\n",
       "      <th>75%</th>\n",
       "      <td>4.000000</td>\n",
       "      <td>84.000000</td>\n",
       "      <td>80.000000</td>\n",
       "      <td>545.750000</td>\n",
       "      <td>2.000000</td>\n",
       "      <td>2.000000</td>\n",
       "      <td>2.000000</td>\n",
       "      <td>23.000000</td>\n",
       "      <td>42.500000</td>\n",
       "      <td>162.750000</td>\n",
       "      <td>28.200000</td>\n",
       "      <td>83.775000</td>\n",
       "    </tr>\n",
       "    <tr>\n",
       "      <th>max</th>\n",
       "      <td>4.000000</td>\n",
       "      <td>118.000000</td>\n",
       "      <td>107.000000</td>\n",
       "      <td>718.000000</td>\n",
       "      <td>3.000000</td>\n",
       "      <td>3.000000</td>\n",
       "      <td>3.000000</td>\n",
       "      <td>45.000000</td>\n",
       "      <td>234.000000</td>\n",
       "      <td>453.000000</td>\n",
       "      <td>48.300000</td>\n",
       "      <td>90.900000</td>\n",
       "    </tr>\n",
       "  </tbody>\n",
       "</table>\n",
       "</div>"
      ],
      "text/plain": [
       "           period  away_score  home_score     play_id        num      outof  \\\n",
       "count  514.000000  514.000000  514.000000  514.000000  69.000000  69.000000   \n",
       "mean     2.464981   53.714008   50.272374  355.871595   1.434783   1.869565   \n",
       "std      1.151209   34.991644   32.674300  210.103834   0.527989   0.450916   \n",
       "min      1.000000    0.000000    0.000000    2.000000   1.000000   1.000000   \n",
       "25%      1.000000   22.000000   18.000000  174.250000   1.000000   2.000000   \n",
       "50%      2.000000   48.000000   52.500000  346.500000   1.000000   2.000000   \n",
       "75%      4.000000   84.000000   80.000000  545.750000   2.000000   2.000000   \n",
       "max      4.000000  118.000000  107.000000  718.000000   3.000000   3.000000   \n",
       "\n",
       "           points  shot_distance  original_x  original_y  converted_x  \\\n",
       "count  247.000000     178.000000  178.000000  178.000000   178.000000   \n",
       "mean     0.910931      12.814607    3.971910   90.606742    24.583708   \n",
       "std      0.987813       9.997424  100.653987   89.346038    10.064622   \n",
       "min      0.000000       0.000000 -239.000000  -19.000000     1.100000   \n",
       "25%      0.000000       3.000000  -30.000000   16.250000    21.000000   \n",
       "50%      1.000000      11.000000    1.000000   53.500000    25.000000   \n",
       "75%      2.000000      23.000000   42.500000  162.750000    28.200000   \n",
       "max      3.000000      45.000000  234.000000  453.000000    48.300000   \n",
       "\n",
       "       converted_y  \n",
       "count   178.000000  \n",
       "mean     46.131461  \n",
       "std      34.208152  \n",
       "min       4.400000  \n",
       "25%      10.500000  \n",
       "50%      34.900000  \n",
       "75%      83.775000  \n",
       "max      90.900000  "
      ]
     },
     "execution_count": 57,
     "metadata": {},
     "output_type": "execute_result"
    }
   ],
   "source": [
    "data.describe()"
   ]
  },
  {
   "cell_type": "code",
   "execution_count": 58,
   "metadata": {},
   "outputs": [
    {
     "data": {
      "text/plain": [
       "0                                                    NaN\n",
       "1          Jump Ball Zubac vs. Marjanovic: Tip to Harris\n",
       "2      Bradley Bad Pass Turnover (P1.T1), Zubac STEAL...\n",
       "3                                MISS Zubac 1' Hook Shot\n",
       "4                          Bradley REBOUND (Off:0 Def:1)\n",
       "5                      MISS Bradley 19' Pullup Jump Shot\n",
       "6                           Ingram REBOUND (Off:0 Def:1)\n",
       "7                           MISS Zubac 5' Hook Bank Shot\n",
       "8                           Harris REBOUND (Off:0 Def:1)\n",
       "9      Gilgeous-Alexander Out of Bounds - Bad Pass Tu...\n",
       "10                       Ingram 3' Driving Layup (2 PTS)\n",
       "11          Gilgeous-Alexander S.FOUL (P1.T1) (E.Malloy)\n",
       "12                         MISS Ingram Free Throw 1 of 1\n",
       "13                      Marjanovic REBOUND (Off:0 Def:1)\n",
       "14                               MISS Gallinari 2' Layup\n",
       "15                       Gallinari REBOUND (Off:1 Def:0)\n",
       "16                           MISS Bradley  3PT Jump Shot\n",
       "17                            Ball REBOUND (Off:0 Def:1)\n",
       "18                          MISS Kuzma 27' 3PT Jump Shot\n",
       "19                       Gallinari REBOUND (Off:1 Def:1)\n",
       "20     Bradley 9' Fadeaway Jumper (2 PTS) (Gallinari ...\n",
       "21                          MISS Zubac 4' Jump Bank Shot\n",
       "22                           Zubac REBOUND (Off:1 Def:0)\n",
       "23                                 Ball 3' Layup (2 PTS)\n",
       "24       Harris 19' Jump Shot (2 PTS) (Marjanovic 1 AST)\n",
       "25                               MISS Zubac 4' Hook Shot\n",
       "26                      Marjanovic REBOUND (Off:0 Def:2)\n",
       "27                     MISS Harris 7' Floating Jump Shot\n",
       "28                            Hart REBOUND (Off:0 Def:1)\n",
       "29     Clippers T.Foul (Def. 3 Sec Marjanovic ) (S.Tw...\n",
       "                             ...                        \n",
       "484                       Williams REBOUND (Off:0 Def:6)\n",
       "485                MISS Williams 21' Step Back Jump Shot\n",
       "486                                       LAKERS Rebound\n",
       "487                  SUB: Harrell FOR Gilgeous-Alexander\n",
       "488            Clippers Timeout: Regular (Reg.5 Short 0)\n",
       "489                  Stephenson 2' Driving Layup (8 PTS)\n",
       "490    Williams 26' 3PT Jump Shot (34 PTS) (Bradley 3...\n",
       "491                       MISS Stephenson  3PT Jump Shot\n",
       "492                                     Clippers Rebound\n",
       "493                Ingram L.B.FOUL (P5.T3) (S.Twardoski)\n",
       "494                      Kuzma S.FOUL (P3.T4) (R.Acosta)\n",
       "495                     Harris Free Throw 1 of 2 (8 PTS)\n",
       "496                     Harris Free Throw 2 of 2 (9 PTS)\n",
       "497    Caldwell-Pope  3PT Jump Shot (10 PTS) (Stephen...\n",
       "498            Harrell 1' Dunk (12 PTS) (Williams 3 AST)\n",
       "499                 MISS Stephenson 19' Pullup Jump Shot\n",
       "500                     Stephenson REBOUND (Off:1 Def:1)\n",
       "501    Bradley STEAL (1 STL), Stephenson Lost Ball Tu...\n",
       "502                 Stephenson S.FOUL (P3.PN) (E.Malloy)\n",
       "503                  Williams Free Throw 1 of 2 (35 PTS)\n",
       "504                  Williams Free Throw 2 of 2 (36 PTS)\n",
       "505    Caldwell-Pope 25' 3PT Jump Shot (13 PTS) (Ball...\n",
       "506                   Williams S.FOUL (P1.PN) (R.Acosta)\n",
       "507             Caldwell-Pope Free Throw 1 of 1 (14 PTS)\n",
       "508                              MISS Gallinari 2' Layup\n",
       "509                         Harris REBOUND (Off:1 Def:9)\n",
       "510                 Clippers Turnover: Shot Clock (T#14)\n",
       "511                    MISS Stephenson 28' 3PT Jump Shot\n",
       "512                       Williams REBOUND (Off:0 Def:7)\n",
       "513                                                  NaN\n",
       "Name: description, Length: 514, dtype: object"
      ]
     },
     "execution_count": 58,
     "metadata": {},
     "output_type": "execute_result"
    }
   ],
   "source": [
    "data['description']"
   ]
  },
  {
   "cell_type": "code",
   "execution_count": 65,
   "metadata": {},
   "outputs": [
    {
     "data": {
      "text/plain": [
       "array([nan, 'Ivica Zubac', 'Avery Bradley', 'Brandon Ingram',\n",
       "       'Tobias Harris', 'Shai Gilgeous-Alexander', 'Boban Marjanovic',\n",
       "       'Danilo Gallinari', 'Lonzo Ball', 'Kyle Kuzma', 'Josh Hart',\n",
       "       'Tyson Chandler', 'Montrezl Harrell', 'Lou Williams',\n",
       "       'Patrick Beverley', 'Mike Scott', 'Kentavious Caldwell-Pope',\n",
       "       'Lance Stephenson', 'Tyrone Wallace', 'Mitchell Butler',\n",
       "       'Marcin Gortat', 'Sindarius Thornwell', 'Alex Caruso'],\n",
       "      dtype=object)"
      ]
     },
     "execution_count": 65,
     "metadata": {},
     "output_type": "execute_result"
    }
   ],
   "source": [
    "data['player'].unique()"
   ]
  },
  {
   "cell_type": "code",
   "execution_count": 67,
   "metadata": {},
   "outputs": [],
   "source": [
    "pointdata = pd.pivot_table(data = data, index = 'player', values = 'points', aggfunc = np.sum )"
   ]
  },
  {
   "cell_type": "code",
   "execution_count": 71,
   "metadata": {},
   "outputs": [
    {
     "data": {
      "text/html": [
       "<div>\n",
       "<style scoped>\n",
       "    .dataframe tbody tr th:only-of-type {\n",
       "        vertical-align: middle;\n",
       "    }\n",
       "\n",
       "    .dataframe tbody tr th {\n",
       "        vertical-align: top;\n",
       "    }\n",
       "\n",
       "    .dataframe thead th {\n",
       "        text-align: right;\n",
       "    }\n",
       "</style>\n",
       "<table border=\"1\" class=\"dataframe\">\n",
       "  <thead>\n",
       "    <tr style=\"text-align: right;\">\n",
       "      <th></th>\n",
       "      <th>points</th>\n",
       "    </tr>\n",
       "    <tr>\n",
       "      <th>player</th>\n",
       "      <th></th>\n",
       "    </tr>\n",
       "  </thead>\n",
       "  <tbody>\n",
       "    <tr>\n",
       "      <th>Lou Williams</th>\n",
       "      <td>36.0</td>\n",
       "    </tr>\n",
       "    <tr>\n",
       "      <th>Kyle Kuzma</th>\n",
       "      <td>24.0</td>\n",
       "    </tr>\n",
       "    <tr>\n",
       "      <th>Danilo Gallinari</th>\n",
       "      <td>19.0</td>\n",
       "    </tr>\n",
       "    <tr>\n",
       "      <th>Lonzo Ball</th>\n",
       "      <td>19.0</td>\n",
       "    </tr>\n",
       "    <tr>\n",
       "      <th>Brandon Ingram</th>\n",
       "      <td>17.0</td>\n",
       "    </tr>\n",
       "  </tbody>\n",
       "</table>\n",
       "</div>"
      ],
      "text/plain": [
       "                  points\n",
       "player                  \n",
       "Lou Williams        36.0\n",
       "Kyle Kuzma          24.0\n",
       "Danilo Gallinari    19.0\n",
       "Lonzo Ball          19.0\n",
       "Brandon Ingram      17.0"
      ]
     },
     "execution_count": 71,
     "metadata": {},
     "output_type": "execute_result"
    }
   ],
   "source": [
    "pointdata.sort_values('points', ascending = False).head()"
   ]
  },
  {
   "cell_type": "code",
   "execution_count": 73,
   "metadata": {},
   "outputs": [],
   "source": [
    "subset = data[['player','team','points']]"
   ]
  },
  {
   "cell_type": "code",
   "execution_count": 74,
   "metadata": {},
   "outputs": [],
   "source": [
    "subset1 = subset.loc[subset['points'] > 0]"
   ]
  },
  {
   "cell_type": "code",
   "execution_count": 75,
   "metadata": {},
   "outputs": [
    {
     "data": {
      "text/html": [
       "<div>\n",
       "<style scoped>\n",
       "    .dataframe tbody tr th:only-of-type {\n",
       "        vertical-align: middle;\n",
       "    }\n",
       "\n",
       "    .dataframe tbody tr th {\n",
       "        vertical-align: top;\n",
       "    }\n",
       "\n",
       "    .dataframe thead th {\n",
       "        text-align: right;\n",
       "    }\n",
       "</style>\n",
       "<table border=\"1\" class=\"dataframe\">\n",
       "  <thead>\n",
       "    <tr style=\"text-align: right;\">\n",
       "      <th></th>\n",
       "      <th>player</th>\n",
       "      <th>team</th>\n",
       "      <th>points</th>\n",
       "    </tr>\n",
       "  </thead>\n",
       "  <tbody>\n",
       "    <tr>\n",
       "      <th>10</th>\n",
       "      <td>Brandon Ingram</td>\n",
       "      <td>LAL</td>\n",
       "      <td>2.0</td>\n",
       "    </tr>\n",
       "    <tr>\n",
       "      <th>20</th>\n",
       "      <td>Avery Bradley</td>\n",
       "      <td>LAC</td>\n",
       "      <td>2.0</td>\n",
       "    </tr>\n",
       "    <tr>\n",
       "      <th>23</th>\n",
       "      <td>Lonzo Ball</td>\n",
       "      <td>LAL</td>\n",
       "      <td>2.0</td>\n",
       "    </tr>\n",
       "    <tr>\n",
       "      <th>24</th>\n",
       "      <td>Tobias Harris</td>\n",
       "      <td>LAC</td>\n",
       "      <td>2.0</td>\n",
       "    </tr>\n",
       "    <tr>\n",
       "      <th>34</th>\n",
       "      <td>Tobias Harris</td>\n",
       "      <td>LAC</td>\n",
       "      <td>2.0</td>\n",
       "    </tr>\n",
       "  </tbody>\n",
       "</table>\n",
       "</div>"
      ],
      "text/plain": [
       "            player team  points\n",
       "10  Brandon Ingram  LAL     2.0\n",
       "20   Avery Bradley  LAC     2.0\n",
       "23      Lonzo Ball  LAL     2.0\n",
       "24   Tobias Harris  LAC     2.0\n",
       "34   Tobias Harris  LAC     2.0"
      ]
     },
     "execution_count": 75,
     "metadata": {},
     "output_type": "execute_result"
    }
   ],
   "source": [
    "subset1.head()\n"
   ]
  },
  {
   "cell_type": "code",
   "execution_count": 76,
   "metadata": {},
   "outputs": [
    {
     "data": {
      "text/html": [
       "<div>\n",
       "<style scoped>\n",
       "    .dataframe tbody tr th:only-of-type {\n",
       "        vertical-align: middle;\n",
       "    }\n",
       "\n",
       "    .dataframe tbody tr th {\n",
       "        vertical-align: top;\n",
       "    }\n",
       "\n",
       "    .dataframe thead th {\n",
       "        text-align: right;\n",
       "    }\n",
       "</style>\n",
       "<table border=\"1\" class=\"dataframe\">\n",
       "  <thead>\n",
       "    <tr style=\"text-align: right;\">\n",
       "      <th></th>\n",
       "      <th>player</th>\n",
       "      <th>team</th>\n",
       "      <th>points</th>\n",
       "    </tr>\n",
       "  </thead>\n",
       "  <tbody>\n",
       "    <tr>\n",
       "      <th>1</th>\n",
       "      <td>Ivica Zubac</td>\n",
       "      <td>LAC</td>\n",
       "      <td>NaN</td>\n",
       "    </tr>\n",
       "    <tr>\n",
       "      <th>2</th>\n",
       "      <td>Avery Bradley</td>\n",
       "      <td>LAC</td>\n",
       "      <td>NaN</td>\n",
       "    </tr>\n",
       "    <tr>\n",
       "      <th>4</th>\n",
       "      <td>Avery Bradley</td>\n",
       "      <td>LAC</td>\n",
       "      <td>NaN</td>\n",
       "    </tr>\n",
       "    <tr>\n",
       "      <th>5</th>\n",
       "      <td>Avery Bradley</td>\n",
       "      <td>LAC</td>\n",
       "      <td>0.0</td>\n",
       "    </tr>\n",
       "    <tr>\n",
       "      <th>8</th>\n",
       "      <td>Tobias Harris</td>\n",
       "      <td>LAC</td>\n",
       "      <td>NaN</td>\n",
       "    </tr>\n",
       "  </tbody>\n",
       "</table>\n",
       "</div>"
      ],
      "text/plain": [
       "          player team  points\n",
       "1    Ivica Zubac  LAC     NaN\n",
       "2  Avery Bradley  LAC     NaN\n",
       "4  Avery Bradley  LAC     NaN\n",
       "5  Avery Bradley  LAC     0.0\n",
       "8  Tobias Harris  LAC     NaN"
      ]
     },
     "execution_count": 76,
     "metadata": {},
     "output_type": "execute_result"
    }
   ],
   "source": [
    "subset2 = subset.loc[subset['team'] == 'LAC']\n",
    "subset2.head()"
   ]
  },
  {
   "cell_type": "code",
   "execution_count": null,
   "metadata": {},
   "outputs": [],
   "source": []
  }
 ],
 "metadata": {
  "kernelspec": {
   "display_name": "Python 3",
   "language": "python",
   "name": "python3"
  },
  "language_info": {
   "codemirror_mode": {
    "name": "ipython",
    "version": 3
   },
   "file_extension": ".py",
   "mimetype": "text/x-python",
   "name": "python",
   "nbconvert_exporter": "python",
   "pygments_lexer": "ipython3",
   "version": "3.7.1"
  }
 },
 "nbformat": 4,
 "nbformat_minor": 2
}
