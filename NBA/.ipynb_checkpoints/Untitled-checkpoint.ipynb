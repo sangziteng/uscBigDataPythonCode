{
 "cells": [
  {
   "cell_type": "code",
   "execution_count": 1,
   "metadata": {},
   "outputs": [],
   "source": [
    "# Load Libraries # \n",
    "\n",
    "import os\n",
    "import pandas as pd \n",
    "import numpy as np \n",
    "\n",
    "pd.options.mode.chained_assignment = None  # default='warn'"
   ]
  },
  {
   "cell_type": "code",
   "execution_count": 256,
   "metadata": {},
   "outputs": [],
   "source": [
    "## Create a list of all Lakers game files. (ie. files where the naem contains LAL) #\n",
    "\n",
    "# Here, my path is : \"C:/Users/mmiric/Documents/NBA Data/1718 NBA Data/TRAIN\", but yours \n",
    "# might differ #\n",
    "\n",
    "LAL_Files = []\n",
    "\n",
    "for file in os.listdir(\"1718/TRAIN\"):\n",
    "    if \"LAL\" in file: \n",
    "        LAL_Files.append(file)"
   ]
  },
  {
   "cell_type": "code",
   "execution_count": 257,
   "metadata": {},
   "outputs": [],
   "source": [
    "# Let's see the head (first 5 rows) in the first data file: \n",
    "\n",
    "Directory = \"1718/TRAIN/\"\n",
    "\n",
    "data = pd.read_csv(Directory + LAL_Files[0])\n"
   ]
  },
  {
   "cell_type": "code",
   "execution_count": 258,
   "metadata": {},
   "outputs": [],
   "source": [
    "# Create playerPlusMinus total dataset to accept and record each player's +/- in each Game\n",
    "playerPlusMinus = pd.DataFrame()\n"
   ]
  },
  {
   "cell_type": "code",
   "execution_count": 259,
   "metadata": {},
   "outputs": [
    {
     "name": "stdout",
     "output_type": "stream",
     "text": [
      "[2017-11-05]-0021700145-MEM@LAL.csv\n"
     ]
    }
   ],
   "source": [
    "Directory = \"1718/TRAIN/\"\n",
    "file =  LAL_Files[0]\n",
    "\n",
    "data = pd.read_csv(Directory + file)\n",
    "\n",
    "# DEFINE IF HOME OR AWAY GAME # \n",
    "\n",
    "print(file)"
   ]
  },
  {
   "cell_type": "code",
   "execution_count": 267,
   "metadata": {},
   "outputs": [
    {
     "name": "stdout",
     "output_type": "stream",
     "text": [
      "[2017-11-28]-0021700298-MIA@CLE.csv\n",
      "[2018-03-21]-0021701065-TOR@CLE.csv\n",
      "[2017-12-21]-0021700466-CHI@CLE.csv\n",
      "[2018-01-26]-0021700715-IND@CLE.csv\n",
      "[2018-01-31]-0021700757-MIA@CLE.csv\n",
      "[2018-01-28]-0021700734-DET@CLE.csv\n",
      "[2018-03-05]-0021700950-DET@CLE.csv\n",
      "[2017-12-12]-0021700397-ATL@CLE.csv\n",
      "[2018-02-03]-0021700779-HOU@CLE.csv\n",
      "[2018-05-05]-0041700203-TOR@CLE.csv\n",
      "[2018-03-19]-0021701050-MIL@CLE.csv\n",
      "[2018-05-19]-0041700303-BOS@CLE.csv\n",
      "[2018-04-11]-0021701220-NYK@CLE.csv\n",
      "[2017-12-06]-0021700353-SAC@CLE.csv\n",
      "[2018-04-05]-0021701176-WAS@CLE.csv\n",
      "[2018-06-08]-0041700404-GSW@CLE.csv\n",
      "[2018-04-29]-0041700137-IND@CLE.csv\n",
      "[2018-02-27]-0021700908-BKN@CLE.csv\n",
      "[2018-05-21]-0041700304-BOS@CLE.csv\n",
      "[2018-04-18]-0041700132-IND@CLE.csv\n",
      "[2017-11-01]-0021700106-IND@CLE.csv\n",
      "[2018-01-15]-0021700646-GSW@CLE.csv\n",
      "[2018-04-03]-0021701156-TOR@CLE.csv\n",
      "[2018-02-25]-0021700894-SAS@CLE.csv\n",
      "[2017-11-22]-0021700254-BKN@CLE.csv\n",
      "[2018-03-01]-0021700923-PHI@CLE.csv\n",
      "[2017-12-02]-0021700329-MEM@CLE.csv\n",
      "[2018-05-07]-0041700204-TOR@CLE.csv\n",
      "[2017-12-14]-0021700415-LAL@CLE.csv\n",
      "[2018-02-22]-0021700869-WAS@CLE.csv\n",
      "[2018-04-01]-0021701149-DAL@CLE.csv\n",
      "[2017-11-24]-0021700270-CHA@CLE.csv\n",
      "[2017-10-21]-0021700028-ORL@CLE.csv\n",
      "[2018-03-03]-0021700937-DEN@CLE.csv\n",
      "[2018-03-30]-0021701131-NOP@CLE.csv\n",
      "[2017-11-05]-0021700136-ATL@CLE.csv\n",
      "[2018-01-02]-0021700549-POR@CLE.csv\n",
      "[2017-10-17]-0021700001-BOS@CLE.csv\n",
      "[2017-11-17]-0021700220-LAC@CLE.csv\n",
      "[2018-03-23]-0021701080-PHX@CLE.csv\n",
      "[2018-01-20]-0021700674-OKC@CLE.csv\n",
      "[2018-04-15]-0041700131-IND@CLE.csv\n",
      "[2018-04-25]-0041700135-IND@CLE.csv\n",
      "[2018-01-18]-0021700664-ORL@CLE.csv\n",
      "[2017-10-24]-0021700049-CHI@CLE.csv\n",
      "[2017-11-07]-0021700149-MIL@CLE.csv\n",
      "[2017-12-09]-0021700379-PHI@CLE.csv\n"
     ]
    }
   ],
   "source": [
    "# Create playerPlusMinus total dataset to accept and record each player's +/- in each Game\n",
    "playerPlusMinus = pd.DataFrame()\n",
    "\n",
    "for file in os.listdir(\"1718/TRAIN\"):\n",
    "\n",
    "    if \"@CLE\" in file: \n",
    "        print(file)\n",
    "        data = pd.read_csv(Directory + file)\n",
    "\n",
    "        HomeAway = \"Home\"\n",
    "\n",
    "        temp_data = data[['h1', 'h2', 'h3', 'h4', 'h5', 'team', 'points']]\n",
    "\n",
    "        temp_data['ScoredConceded'] = np.where(temp_data['team'] == \"CLE\", \"Scored\", \"Conceded\")    \n",
    "        temp_data = temp_data.loc[temp_data['points'].notnull()]\n",
    "        temp_data2 = pd.DataFrame([])\n",
    "\n",
    "        i = 0\n",
    "        while i < 5:\n",
    "            i += 1\n",
    "            hname = 'h'+str(i)\n",
    "            tmp = temp_data[[hname, 'team', 'points', 'ScoredConceded']]\n",
    "            tmp.rename(columns={hname:'player'}, inplace=True)\n",
    "            tmp['position'] = hname\n",
    "            tmp = tmp.loc[tmp['points']!=0]\n",
    "\n",
    "            temp_data2 = temp_data2.append(tmp)\n",
    "\n",
    "        # Calculate for each game, players score and conceded points    \n",
    "        temp_data3 = pd.pivot_table(temp_data2, index = ['player', 'ScoredConceded'], values = ['points'], aggfunc = np.sum).unstack(level=1)\n",
    "\n",
    "        # Make the pivot_table into a better format\n",
    "        temp_data3 = temp_data3.reset_index()\n",
    "        temp_data3.columns = ['player', 'Conceded', 'Scored']\n",
    "\n",
    "        temp_data3['PlusMinus'] = np.nan_to_num(temp_data3['Scored']) - np.nan_to_num(temp_data3['Conceded'])\n",
    "        temp_data3['Team'] = 'CLE'\n",
    "        temp_data3['GameID'] = data['game_id']\n",
    "        temp_data3['HomeAway'] = HomeAway\n",
    "\n",
    "    # After processing the entire file, append player's +/- into a whole dataset    \n",
    "    playerPlusMinus = playerPlusMinus.append(temp_data3.reset_index(), ignore_index=False)\n"
   ]
  },
  {
   "cell_type": "code",
   "execution_count": 268,
   "metadata": {},
   "outputs": [
    {
     "data": {
      "text/plain": [
       "player\n",
       "Andrew Bogut                 4.000000\n",
       "Ante Zizic                  -2.403670\n",
       "Brandon Ingram               2.000000\n",
       "Brook Lopez                  8.000000\n",
       "Cedi Osman                  -0.057692\n",
       "Channing Frye               -1.470348\n",
       "Corey Brewer                10.000000\n",
       "Derrick Rose                -3.732794\n",
       "Dwyane Wade                  2.566390\n",
       "George Hill                  9.305147\n",
       "Iman Shumpert               -2.449438\n",
       "Isaiah Thomas               -1.337580\n",
       "Ivica Zubac                 -2.000000\n",
       "JR Smith                     4.703839\n",
       "Jae Crowder                 -1.518116\n",
       "Jeff Green                   2.275830\n",
       "John Holland                -3.166667\n",
       "Jordan Clarkson              6.042187\n",
       "Jose Calderon                3.444169\n",
       "Josh Hart                    4.000000\n",
       "Julius Randle               27.000000\n",
       "Kendrick Perkins             3.000000\n",
       "Kentavious Caldwell-Pope    -3.000000\n",
       "Kevin Love                   9.728042\n",
       "Kyle Korver                  5.947727\n",
       "Kyle Kuzma                   0.000000\n",
       "Larry Nance Jr.              3.111722\n",
       "LeBron James                 6.541446\n",
       "London Perrantes            -2.305136\n",
       "Lonzo Ball                  28.000000\n",
       "Rodney Hood                 -4.662214\n",
       "Tristan Thompson            -0.782034\n",
       "Name: PlusMinus, dtype: float64"
      ]
     },
     "execution_count": 268,
     "metadata": {},
     "output_type": "execute_result"
    }
   ],
   "source": [
    "playerPlusMinus.groupby('player')['PlusMinus'].mean()"
   ]
  },
  {
   "cell_type": "code",
   "execution_count": 158,
   "metadata": {},
   "outputs": [],
   "source": []
  },
  {
   "cell_type": "code",
   "execution_count": 249,
   "metadata": {},
   "outputs": [],
   "source": []
  },
  {
   "cell_type": "code",
   "execution_count": null,
   "metadata": {},
   "outputs": [],
   "source": []
  }
 ],
 "metadata": {
  "kernelspec": {
   "display_name": "Python 3",
   "language": "python",
   "name": "python3"
  },
  "language_info": {
   "codemirror_mode": {
    "name": "ipython",
    "version": 3
   },
   "file_extension": ".py",
   "mimetype": "text/x-python",
   "name": "python",
   "nbconvert_exporter": "python",
   "pygments_lexer": "ipython3",
   "version": "3.7.1"
  }
 },
 "nbformat": 4,
 "nbformat_minor": 2
}
